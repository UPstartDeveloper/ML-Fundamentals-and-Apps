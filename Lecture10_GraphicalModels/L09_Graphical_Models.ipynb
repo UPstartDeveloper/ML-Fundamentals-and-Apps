{
 "cells": [
  {
   "cell_type": "markdown",
   "metadata": {},
   "source": [
    "# <center> Lecture 10 - Graphical Models</center>"
   ]
  },
  {
   "cell_type": "markdown",
   "metadata": {},
   "source": [
    "The graphical model (GM) is a branch of ML which uses a graph to represent a domain problem. \n",
    "\n",
    "Many ML and deep learning (DL) algorithms belongs to the GM. \n",
    "- Naive Dayes' algorithm\n",
    "- Hidden Markov Model\n",
    "- Restricted Boltzmann Machine\n",
    "- Neural Networks\n",
    "\n",
    "**Probabilitic graphical model** combines both probability and graph theory. \n",
    "- the probabilitic part reasons under uncertainty (i.e. it models conditionality)\n",
    "- the graphical part models the dependency or correlation (i.e. it helps give direction to our thought process)\n",
    "\n",
    "In GM, we model a domain problem wth a collection of random variables $(x_1,x_2,\\dots,x_n)$ as a joint distribution $P(x_1,\\dots,x_n)$ and present by a graph.\n",
    "- a variable is represented by a node.\n",
    "- a dependency or correlation is represented by an edge. "
   ]
  },
  {
   "cell_type": "markdown",
   "metadata": {},
   "source": [
    "The examples of the joint probability:\n",
    "- the likelihood of the observations $P(E)$ - the chance of the lab results\n",
    "- the marginal probablity $P(x_1)$,$P(x_1,x_3),\\dots$ - the chance of having Alzheimer when you are 70\n",
    "- Conditional probability $P(Y|E)$ - the chance of having Alzheimer given your parents has it\n",
    "- Maximum a Posterior (MAP), argmax $P(X,E)$ - the most likely disease given the lab results\n",
    "\n",
    "In GM, we choose a graph to represent information and theire relationship in a dense form - marginal probability, conditional probablity, or MAP. "
   ]
  },
  {
   "cell_type": "markdown",
   "metadata": {},
   "source": [
    "<img src=\"gm_example_0.png\" width=\"600\"/> "
   ]
  },
  {
   "cell_type": "markdown",
   "metadata": {},
   "source": [
    "The Bayesian Network (BN) example above, the conditional probability $P(R=T|W=T)$:\n",
    "$$\\begin{equation}\\begin{split}\n",
    "P(R=T|W=T)&=\\frac{P(W=T|R=T)P(R=T)}{P(W=T)}\\\\\n",
    "&=\\frac{\\sum_{S\\in\\{T,F\\}}P(W=T,S,R=T)}{\\sum_{S,R\\in\\{T,F\\}}P(W=T,S,R)}\n",
    "\\end{split}\\end{equation}$$"
   ]
  },
  {
   "cell_type": "markdown",
   "metadata": {},
   "source": [
    "$$\\begin{equation}\\begin{split}\n",
    "\\sum_{S\\in\\{T,F\\}}p(W=T,S,R=T) &= \\sum_{S\\in\\{T,F\\}}p(W=T|S,R=T)p(S|R=T)p(R=T)\\\\\n",
    "&=p(W=T|S=T,R=T)p(S=T|R=T)p(R=T)\\\\\n",
    "&\\,\\,+p(W=T|S=F,R=T)p(S=F|R=T)p(R=T)\n",
    "\\end{split}\\end{equation}$$"
   ]
  },
  {
   "cell_type": "code",
   "execution_count": 1,
   "metadata": {},
   "outputs": [
    {
     "name": "stdout",
     "output_type": "stream",
     "text": [
      "p(W=T,S=T,R=T) = p(W=T|S=T,R=T)p(S=T|R=T)p(R=T)= 0.0020\n",
      "p(W=T,S=F,R=T) = p(W=T|S=F,R=T)p(S=F|R=T)p(R=T)=0.1584\n",
      "p(W=T,R=T) = p(W=T,S=T,R=T)+p(W=T,S=F,R=T)=0.1604\n"
     ]
    }
   ],
   "source": [
    "P_WtStRt=0.99*0.01*0.2\n",
    "P_WtSfRt=0.8*0.99*0.2\n",
    "P_WtRt=P_WtStRt+P_WtSfRt\n",
    "print(f'p(W=T,S=T,R=T) = p(W=T|S=T,R=T)p(S=T|R=T)p(R=T)= {P_WtStRt:.4f}')\n",
    "print(f'p(W=T,S=F,R=T) = p(W=T|S=F,R=T)p(S=F|R=T)p(R=T)={P_WtSfRt:.4f}')\n",
    "print(f'p(W=T,R=T) = p(W=T,S=T,R=T)+p(W=T,S=F,R=T)={P_WtRt:.4f}')"
   ]
  },
  {
   "cell_type": "markdown",
   "metadata": {},
   "source": [
    "$$\\begin{equation}\\begin{split}\n",
    "\\sum_{S,R\\in\\{T,F\\}}p(W=T,S,R)&=\\sum_{S,R\\in\\{T,F\\}}p(W=T|S,R)p(S|R)p(R)\\\\\n",
    "&=p(W=T|S=T,R=T)p(S=T|R=T)p(R=T)\\\\\n",
    "&\\,\\,+p(W=T|S=F,R=T)p(S=F|R=T)p(R=T)\\\\\n",
    "&\\,\\,+p(W=T|S=T,R=F)p(S=T|R=F)p(R=F)\\\\\n",
    "&\\,\\,+p(W=T|S=F,R=F)p(S=F|R=F)p(R=F)\n",
    "\\end{split}\\end{equation}$$"
   ]
  },
  {
   "cell_type": "code",
   "execution_count": 2,
   "metadata": {},
   "outputs": [
    {
     "name": "stdout",
     "output_type": "stream",
     "text": [
      "p(W=T,S=T,R=F) = p(W=T|S=T,R=F)p(S=T|R=F)p(R=F) = 0.2880\n",
      "p(W=T,S=F,R=F) = p(W=T|S=F,R=F)p(S=F|R=F)p(R=F) = 0.0000\n",
      "p(W=T,S,R) = 0.4484\n",
      "p(W=T,S,R=T) = p(W=T,S,R=T)/p(W=T,S,R)=0.3577\n"
     ]
    }
   ],
   "source": [
    "P_WtStRf=0.9*0.4*0.8\n",
    "P_WtSfRf=0*0.6*0.8\n",
    "P_WtSR = P_WtStRf+P_WtSfRf+P_WtRt\n",
    "print(f'p(W=T,S=T,R=F) = p(W=T|S=T,R=F)p(S=T|R=F)p(R=F) = {P_WtStRf:.4f}')\n",
    "print(f'p(W=T,S=F,R=F) = p(W=T|S=F,R=F)p(S=F|R=F)p(R=F) = {P_WtSfRf:.4f}')\n",
    "print(f'p(W=T,S,R) = {P_WtSR:.4f}')\n",
    "print(f'p(W=T,S,R=T) = p(W=T,S,R=T)/p(W=T,S,R)={P_WtRt/P_WtSR:.4f}')"
   ]
  },
  {
   "cell_type": "markdown",
   "metadata": {},
   "source": [
    "the joint probability $P$ also can be factorized as \n",
    "$$P(S,R,G)=\\prod_{i\\in V}P(x_i|x_{Pa(i)})$$\n",
    "where $x_{Pa(i)}$ is all parents of $x$ and $i\\in V$ is for each node."
   ]
  },
  {
   "cell_type": "markdown",
   "metadata": {},
   "source": [
    "$\\therefore$ the joint probability $P(S,R,G)$ is \n",
    "$$P(S,R,G)=P(S|R)P(R)P(W|S,R)$$"
   ]
  },
  {
   "cell_type": "markdown",
   "metadata": {},
   "source": [
    "<img src=\"gm_example.png\" width=\"600\"/> "
   ]
  },
  {
   "cell_type": "markdown",
   "metadata": {},
   "source": [
    "From the Bayesian Network (BN) example above, the joint probability $P(D,I,G,S,L)$ is \n",
    "$$P(D,I,G,S,L)=P(D)P(I)P(G|I,D)P(S|I)P(L|G)$$\n",
    "- D and I are parent of G - $G|\\{D,I\\}$\n",
    "- S is independent of D or G - $S\\perp \\{D,G\\}|I$ then $P(S,D)=P(S)P(D)$\n",
    "- L is independent of D,I,S - $L\\perp \\{D,I,S\\}|G$\n"
   ]
  },
  {
   "cell_type": "markdown",
   "metadata": {},
   "source": [
    "# Example with pgmpy\n",
    "\n",
    "- pgmpy is a library for working with GM. \n",
    "- Unfortunately, it does not come with python package and it needs to be installed. \n",
    "- Documentation and list of algorithms supported: https://pgmpy.org/\n",
    "- Basic tutorial on Probabilistic Graphical models using pgmpy: https://github.com/pgmpy/pgmpy_notebook"
   ]
  },
  {
   "cell_type": "markdown",
   "metadata": {},
   "source": [
    "pgmpy has following non optional dependencies:\n",
    "\n",
    "python 3.6 or higher\n",
    "- networkX\n",
    "- scipy\n",
    "- numpy\n",
    "- pytorch\n",
    "\n",
    "Some of the functionality would also require:\n",
    "- tqdm\n",
    "- pandas\n",
    "- pyparsing\n",
    "- statsmodels\n",
    "- joblib"
   ]
  },
  {
   "cell_type": "markdown",
   "metadata": {},
   "source": [
    "### Drawing a Conditional Probability Directed Graph"
   ]
  },
  {
   "cell_type": "code",
   "execution_count": 3,
   "metadata": {},
   "outputs": [],
   "source": [
    "## !pip3 install pgmpy"
   ]
  },
  {
   "cell_type": "code",
   "execution_count": 4,
   "metadata": {},
   "outputs": [],
   "source": [
    "## !pip3 install -q daft"
   ]
  },
  {
   "cell_type": "code",
   "execution_count": 5,
   "metadata": {},
   "outputs": [],
   "source": [
    "import matplotlib.pyplot as plt\n",
    "%matplotlib inline\n",
    "import daft\n",
    "from daft import PGM"
   ]
  },
  {
   "cell_type": "code",
   "execution_count": 6,
   "metadata": {},
   "outputs": [],
   "source": [
    "def convert_pgm_to_pgmpy(pgm):\n",
    "    \"\"\"Takes a Daft PGM object and converts it to a pgmpy BayesianModel\"\"\"\n",
    "    edges = [(edge.node1.name, edge.node2.name) for edge in pgm._edges]\n",
    "    model = BayesianModel(edges)\n",
    "    return model"
   ]
  },
  {
   "cell_type": "code",
   "execution_count": 7,
   "metadata": {},
   "outputs": [
    {
     "data": {
      "image/png": "[encoded data removed]",
      "text/plain": [
       "<Figure size 314.961x236.22 with 1 Axes>"
      ]
     },
     "metadata": {},
     "output_type": "display_data"
    }
   ],
   "source": [
    "pgm = PGM(shape=[4, 3])\n",
    "\n",
    "pgm.add_node(daft.Node('X', r\"X\", 1, 2))\n",
    "pgm.add_node(daft.Node('Y', r\"Y\", 3, 2))\n",
    "pgm.add_node(daft.Node('A', r\"A\", 2, 2))\n",
    "pgm.add_node(daft.Node('B', r\"B\", 2, 1))\n",
    "\n",
    "\n",
    "pgm.add_edge('X', 'A')\n",
    "pgm.add_edge('A', 'Y')\n",
    "pgm.add_edge('A', 'B')\n",
    "\n",
    "pgm.render()\n",
    "plt.show()"
   ]
  },
  {
   "cell_type": "markdown",
   "metadata": {},
   "source": [
    "### Make a GM model"
   ]
  },
  {
   "cell_type": "code",
   "execution_count": 8,
   "metadata": {},
   "outputs": [
    {
     "name": "stderr",
     "output_type": "stream",
     "text": [
      "/Applications/anaconda3/envs/559/lib/python3.10/site-packages/tqdm/auto.py:22: TqdmWarning: IProgress not found. Please update jupyter and ipywidgets. See https://ipywidgets.readthedocs.io/en/stable/user_install.html\n",
      "  from .autonotebook import tqdm as notebook_tqdm\n"
     ]
    }
   ],
   "source": [
    "from pgmpy.models import BayesianModel\n",
    "from pgmpy.factors.discrete import TabularCPD"
   ]
  },
  {
   "cell_type": "markdown",
   "metadata": {},
   "source": [
    "Defining the model structure. We can define the network by just passing a list of edges."
   ]
  },
  {
   "cell_type": "code",
   "execution_count": 9,
   "metadata": {},
   "outputs": [
    {
     "name": "stderr",
     "output_type": "stream",
     "text": [
      "/Applications/anaconda3/envs/559/lib/python3.10/site-packages/pgmpy/models/BayesianModel.py:8: FutureWarning: BayesianModel has been renamed to BayesianNetwork. Please use BayesianNetwork class, BayesianModel will be removed in future.\n",
      "  warnings.warn(\n"
     ]
    }
   ],
   "source": [
    "model = BayesianModel([('D', 'G'), ('I', 'G'), ('G', 'L'), ('I', 'S')]) "
   ]
  },
  {
   "cell_type": "markdown",
   "metadata": {},
   "source": [
    "Define all the conditional probabilities  tables. \n",
    "- these CPD's are formsed by a method in pgmpy called **TabularCPD**.\n",
    "- The representation of CPD in pgmpy is a bit different than the CPD shown in the above picture. In pgmpy the colums are the evidences and rows are the states of the variable. So the grade CPD is represented like this:\n",
    "\n",
    "\n",
    "|diff    | intel_0 | intel_0 | intel_1 | intel_1|\n",
    "| --- | --- | --- | --- | --- |\n",
    "| intel | diff_0  | diff_1  | diff_0  | diff_1  |\n",
    "| grade_0 | 0.3     | 0.05    | 0.9     | 0.5     |\n",
    "| grade_1 | 0.4     | 0.25    | 0.08    | 0.3     |\n",
    "| grade_2 | 0.3     | 0.7     | 0.02    | 0.2     |"
   ]
  },
  {
   "cell_type": "code",
   "execution_count": 10,
   "metadata": {},
   "outputs": [],
   "source": [
    "##representes P(grade|diff, intel)\n",
    "cpd_d = TabularCPD(variable='D', variable_card=2, values=[[0.6], [0.4]]) #Diff\n",
    "cpd_i = TabularCPD(variable='I', variable_card=2, values=[[0.7], [0.3]]) #Intel\n",
    "cpd_g = TabularCPD(variable='G', variable_card=3,                        #Grade   \n",
    "                   values=[[0.3, 0.05, 0.9,  0.5],\n",
    "                           [0.4, 0.25, 0.08, 0.3],\n",
    "                           [0.3, 0.7,  0.02, 0.2]],\n",
    "                  evidence=['I', 'D'],\n",
    "                  evidence_card=[2, 2])"
   ]
  },
  {
   "cell_type": "code",
   "execution_count": 11,
   "metadata": {},
   "outputs": [
    {
     "data": {
      "text/plain": [
       "True"
      ]
     },
     "execution_count": 11,
     "metadata": {},
     "output_type": "execute_result"
    }
   ],
   "source": [
    "cpd_l = TabularCPD(variable='L', variable_card=2,                        #Letter\n",
    "                   values=[[0.1, 0.4, 0.99],\n",
    "                           [0.9, 0.6, 0.01]],\n",
    "                   evidence=['G'],\n",
    "                   evidence_card=[3])\n",
    "\n",
    "cpd_s = TabularCPD(variable='S', variable_card=2,                        #SAT\n",
    "                   values=[[0.95, 0.2],\n",
    "                           [0.05, 0.8]],\n",
    "                   evidence=['I'],\n",
    "                   evidence_card=[2])\n",
    "\n",
    "# Associating the CPDs with the network\n",
    "model.add_cpds(cpd_d, cpd_i, cpd_g, cpd_l, cpd_s)\n",
    "\n",
    "# check_model checks for the network structure and CPDs and verifies that the CPDs are correctly \n",
    "# defined and sum to 1.\n",
    "model.check_model()"
   ]
  },
  {
   "cell_type": "markdown",
   "metadata": {},
   "source": [
    "Call some methods on the BayesianModel object."
   ]
  },
  {
   "cell_type": "code",
   "execution_count": 12,
   "metadata": {},
   "outputs": [
    {
     "data": {
      "text/plain": [
       "[<TabularCPD representing P(D:2) at 0x7ff0bb38fe80>,\n",
       " <TabularCPD representing P(I:2) at 0x7ff0bb38fc70>,\n",
       " <TabularCPD representing P(G:3 | I:2, D:2) at 0x7ff0bb38f730>,\n",
       " <TabularCPD representing P(L:2 | G:3) at 0x7ff0bb38f9d0>,\n",
       " <TabularCPD representing P(S:2 | I:2) at 0x7ff0bb38f6d0>]"
      ]
     },
     "execution_count": 12,
     "metadata": {},
     "output_type": "execute_result"
    }
   ],
   "source": [
    "model.get_cpds()"
   ]
  },
  {
   "cell_type": "markdown",
   "metadata": {},
   "source": [
    "Printing a CPD which doesn't have state names defined."
   ]
  },
  {
   "cell_type": "code",
   "execution_count": 13,
   "metadata": {},
   "outputs": [
    {
     "name": "stdout",
     "output_type": "stream",
     "text": [
      "+------+------+------+------+------+\n",
      "| I    | I(0) | I(0) | I(1) | I(1) |\n",
      "+------+------+------+------+------+\n",
      "| D    | D(0) | D(1) | D(0) | D(1) |\n",
      "+------+------+------+------+------+\n",
      "| G(0) | 0.3  | 0.05 | 0.9  | 0.5  |\n",
      "+------+------+------+------+------+\n",
      "| G(1) | 0.4  | 0.25 | 0.08 | 0.3  |\n",
      "+------+------+------+------+------+\n",
      "| G(2) | 0.3  | 0.7  | 0.02 | 0.2  |\n",
      "+------+------+------+------+------+\n"
     ]
    }
   ],
   "source": [
    "print(cpd_g)"
   ]
  },
  {
   "cell_type": "markdown",
   "metadata": {},
   "source": [
    "Printing a CPD with it's state names defined."
   ]
  },
  {
   "cell_type": "code",
   "execution_count": 14,
   "metadata": {},
   "outputs": [
    {
     "name": "stdout",
     "output_type": "stream",
     "text": [
      "+------+------+------+------+------+\n",
      "| I    | I(0) | I(0) | I(1) | I(1) |\n",
      "+------+------+------+------+------+\n",
      "| D    | D(0) | D(1) | D(0) | D(1) |\n",
      "+------+------+------+------+------+\n",
      "| G(0) | 0.3  | 0.05 | 0.9  | 0.5  |\n",
      "+------+------+------+------+------+\n",
      "| G(1) | 0.4  | 0.25 | 0.08 | 0.3  |\n",
      "+------+------+------+------+------+\n",
      "| G(2) | 0.3  | 0.7  | 0.02 | 0.2  |\n",
      "+------+------+------+------+------+\n"
     ]
    }
   ],
   "source": [
    "print(model.get_cpds('G'))"
   ]
  },
  {
   "cell_type": "code",
   "execution_count": 15,
   "metadata": {},
   "outputs": [
    {
     "data": {
      "text/plain": [
       "3"
      ]
     },
     "execution_count": 15,
     "metadata": {},
     "output_type": "execute_result"
    }
   ],
   "source": [
    "model.get_cardinality('G')"
   ]
  },
  {
   "cell_type": "markdown",
   "metadata": {},
   "source": [
    "To find the local independencies of a variable:"
   ]
  },
  {
   "cell_type": "code",
   "execution_count": 16,
   "metadata": {},
   "outputs": [
    {
     "data": {
      "text/plain": [
       "(G ⟂ S | I, D)"
      ]
     },
     "execution_count": 16,
     "metadata": {},
     "output_type": "execute_result"
    }
   ],
   "source": [
    "model.local_independencies('G') "
   ]
  },
  {
   "cell_type": "markdown",
   "metadata": {},
   "source": [
    "To find all the local independencies in the network."
   ]
  },
  {
   "cell_type": "code",
   "execution_count": 17,
   "metadata": {},
   "outputs": [
    {
     "data": {
      "text/plain": [
       "(D ⟂ I, S)\n",
       "(I ⟂ D)\n",
       "(S ⟂ G, D, L | I)\n",
       "(G ⟂ S | I, D)\n",
       "(L ⟂ I, S, D | G)"
      ]
     },
     "execution_count": 17,
     "metadata": {},
     "output_type": "execute_result"
    }
   ],
   "source": [
    "model.local_independencies(['D', 'I', 'S', 'G', 'L']) "
   ]
  },
  {
   "cell_type": "markdown",
   "metadata": {},
   "source": [
    "**Active trail**: For any two variables A and B in a network if any change in A influences the values of B then we say that there is an active trail between A and B.\n",
    "- In pgmpy active_trail_nodes gives a set of nodes which are affected (i.e. correlated) by any change in the node passed in the argument."
   ]
  },
  {
   "cell_type": "code",
   "execution_count": 18,
   "metadata": {},
   "outputs": [
    {
     "data": {
      "text/plain": [
       "{'D': {'D', 'G', 'L'}}"
      ]
     },
     "execution_count": 18,
     "metadata": {},
     "output_type": "execute_result"
    }
   ],
   "source": [
    "model.active_trail_nodes('D')"
   ]
  },
  {
   "cell_type": "code",
   "execution_count": 19,
   "metadata": {},
   "outputs": [
    {
     "data": {
      "text/plain": [
       "{'D': {'D', 'I', 'S'}}"
      ]
     },
     "execution_count": 19,
     "metadata": {},
     "output_type": "execute_result"
    }
   ],
   "source": [
    "model.active_trail_nodes('D', observed='G')"
   ]
  },
  {
   "cell_type": "markdown",
   "metadata": {},
   "source": [
    "**Inference from bayesian models:** \n",
    "- We can predict values from the Bayesian Model discussed above using **Variable Elimination**, a very basic method for inference. \n",
    "- For example, we will compute the probability of G by marginalizing over all the other variables. "
   ]
  },
  {
   "cell_type": "code",
   "execution_count": 20,
   "metadata": {},
   "outputs": [
    {
     "name": "stdout",
     "output_type": "stream",
     "text": [
      "+------+----------+\n",
      "| G    |   phi(G) |\n",
      "+======+==========+\n",
      "| G(0) |   0.3620 |\n",
      "+------+----------+\n",
      "| G(1) |   0.2884 |\n",
      "+------+----------+\n",
      "| G(2) |   0.3496 |\n",
      "+------+----------+\n"
     ]
    },
    {
     "name": "stderr",
     "output_type": "stream",
     "text": [
      "/Applications/anaconda3/envs/559/lib/python3.10/site-packages/pgmpy/models/BayesianModel.py:8: FutureWarning: BayesianModel has been renamed to BayesianNetwork. Please use BayesianNetwork class, BayesianModel will be removed in future.\n",
      "  warnings.warn(\n"
     ]
    }
   ],
   "source": [
    "from pgmpy.inference import VariableElimination\n",
    "infer = VariableElimination(model)\n",
    "g_dist = infer.query(['G'])\n",
    "print(g_dist) "
   ]
  },
  {
   "cell_type": "markdown",
   "metadata": {},
   "source": [
    "CPDs can also be defined using the state names of the variables. If the state names are not provided like in the previous example, pgmpy will automatically assign names as: 0, 1, 2, ...."
   ]
  },
  {
   "cell_type": "code",
   "execution_count": 21,
   "metadata": {},
   "outputs": [
    {
     "data": {
      "text/plain": [
       "True"
      ]
     },
     "execution_count": 21,
     "metadata": {},
     "output_type": "execute_result"
    }
   ],
   "source": [
    "cpd_d_sn = TabularCPD(variable='D', variable_card=2, values=[[0.6], [0.4]], state_names={'D': ['Easy', 'Hard']})\n",
    "cpd_i_sn = TabularCPD(variable='I', variable_card=2, values=[[0.7], [0.3]], state_names={'I': ['Dumb', 'Intelligent']})\n",
    "cpd_g_sn = TabularCPD(variable='G', variable_card=3, \n",
    "                      values=[[0.3, 0.05, 0.9,  0.5],\n",
    "                              [0.4, 0.25, 0.08, 0.3],\n",
    "                              [0.3, 0.7,  0.02, 0.2]],\n",
    "                      evidence=['I', 'D'],\n",
    "                      evidence_card=[2, 2],\n",
    "                      state_names={'G': ['A', 'B', 'C'],\n",
    "                                   'I': ['Dumb', 'Intelligent'],\n",
    "                                   'D': ['Easy', 'Hard']})\n",
    "\n",
    "cpd_l_sn = TabularCPD(variable='L', variable_card=2, \n",
    "                      values=[[0.1, 0.4, 0.99],\n",
    "                              [0.9, 0.6, 0.01]],\n",
    "                      evidence=['G'],\n",
    "                      evidence_card=[3],\n",
    "                      state_names={'L': ['Bad', 'Good'],\n",
    "                                   'G': ['A', 'B', 'C']})\n",
    "\n",
    "cpd_s_sn = TabularCPD(variable='S', variable_card=2,\n",
    "                      values=[[0.95, 0.2],\n",
    "                              [0.05, 0.8]],\n",
    "                      evidence=['I'],\n",
    "                      evidence_card=[2],\n",
    "                      state_names={'S': ['Bad', 'Good'],\n",
    "                                   'I': ['Dumb', 'Intelligent']})\n",
    "\n",
    "model.add_cpds(cpd_d_sn, cpd_i_sn, cpd_g_sn, cpd_l_sn, cpd_s_sn)\n",
    "model.check_model()"
   ]
  },
  {
   "cell_type": "code",
   "execution_count": 22,
   "metadata": {},
   "outputs": [
    {
     "data": {
      "text/plain": [
       "[<TabularCPD representing P(D:2) at 0x7ff0bbf04b50>,\n",
       " <TabularCPD representing P(I:2) at 0x7ff0bbf04af0>,\n",
       " <TabularCPD representing P(G:3 | I:2, D:2) at 0x7ff0bbf04bb0>,\n",
       " <TabularCPD representing P(L:2 | G:3) at 0x7ff0bbf04b80>,\n",
       " <TabularCPD representing P(S:2 | I:2) at 0x7ff0bbf04b20>]"
      ]
     },
     "execution_count": 22,
     "metadata": {},
     "output_type": "execute_result"
    }
   ],
   "source": [
    "model.get_cpds()"
   ]
  },
  {
   "cell_type": "code",
   "execution_count": 23,
   "metadata": {},
   "outputs": [],
   "source": [
    "infer = VariableElimination(model)"
   ]
  },
  {
   "cell_type": "code",
   "execution_count": 24,
   "metadata": {},
   "outputs": [
    {
     "name": "stdout",
     "output_type": "stream",
     "text": [
      "+------+----------+\n",
      "| G    |   phi(G) |\n",
      "+======+==========+\n",
      "| G(A) |   0.9000 |\n",
      "+------+----------+\n",
      "| G(B) |   0.0800 |\n",
      "+------+----------+\n",
      "| G(C) |   0.0200 |\n",
      "+------+----------+\n"
     ]
    }
   ],
   "source": [
    "print(infer.query(['G'], evidence={'D': 'Easy', 'I': 'Intelligent'}))"
   ]
  },
  {
   "cell_type": "markdown",
   "metadata": {},
   "source": [
    "### Prediction for new data points"
   ]
  },
  {
   "cell_type": "code",
   "execution_count": 25,
   "metadata": {},
   "outputs": [
    {
     "name": "stderr",
     "output_type": "stream",
     "text": [
      "Finding Elimination Order: : 100%|██████████| 2/2 [00:00<00:00, 508.92it/s]\n",
      "Eliminating: D: 100%|██████████| 2/2 [00:00<00:00, 884.59it/s]\n"
     ]
    },
    {
     "data": {
      "text/plain": [
       "{'G': 'A'}"
      ]
     },
     "execution_count": 25,
     "metadata": {},
     "output_type": "execute_result"
    }
   ],
   "source": [
    "infer.map_query(['G'])"
   ]
  },
  {
   "cell_type": "code",
   "execution_count": 26,
   "metadata": {},
   "outputs": [
    {
     "name": "stderr",
     "output_type": "stream",
     "text": [
      "Finding Elimination Order: : : 0it [00:00, ?it/s]\n",
      "0it [00:00, ?it/s]\n"
     ]
    },
    {
     "data": {
      "text/plain": [
       "{'G': 'C'}"
      ]
     },
     "execution_count": 26,
     "metadata": {},
     "output_type": "execute_result"
    }
   ],
   "source": [
    "infer.map_query(['G'], evidence={'D': 'Hard', 'I': 'Dumb'})"
   ]
  },
  {
   "cell_type": "code",
   "execution_count": 27,
   "metadata": {},
   "outputs": [
    {
     "name": "stderr",
     "output_type": "stream",
     "text": [
      "Finding Elimination Order: : : 0it [00:00, ?it/s]\n",
      "0it [00:00, ?it/s]\n"
     ]
    },
    {
     "data": {
      "text/plain": [
       "{'G': 'A'}"
      ]
     },
     "execution_count": 27,
     "metadata": {},
     "output_type": "execute_result"
    }
   ],
   "source": [
    "infer.map_query(['G'], evidence={'D': 'Easy', 'I': 'Intelligent', 'L': 'Good', 'S': 'Good'})"
   ]
  },
  {
   "cell_type": "markdown",
   "metadata": {},
   "source": [
    "### Prediction with "
   ]
  },
  {
   "cell_type": "code",
   "execution_count": 28,
   "metadata": {},
   "outputs": [],
   "source": [
    "from pgmpy.models import BayesianModel\n",
    "import pandas as pd\n",
    "import numpy as np"
   ]
  },
  {
   "cell_type": "code",
   "execution_count": 29,
   "metadata": {},
   "outputs": [
    {
     "name": "stdout",
     "output_type": "stream",
     "text": [
      "     D  I  G  L  S\n",
      "0    0  1  1  1  0\n",
      "1    0  0  0  0  1\n",
      "2    1  0  0  1  1\n",
      "3    0  0  1  0  0\n",
      "4    0  1  1  1  0\n",
      "..  .. .. .. .. ..\n",
      "745  0  0  0  1  1\n",
      "746  0  1  0  0  1\n",
      "747  1  0  0  1  0\n",
      "748  1  0  0  0  0\n",
      "749  0  1  0  0  1\n",
      "\n",
      "[750 rows x 5 columns]\n",
      "+------+----------+\n",
      "| D(0) | 0.514667 |\n",
      "+------+----------+\n",
      "| D(1) | 0.485333 |\n",
      "+------+----------+\n"
     ]
    },
    {
     "name": "stderr",
     "output_type": "stream",
     "text": [
      "/Applications/anaconda3/envs/559/lib/python3.10/site-packages/pgmpy/models/BayesianModel.py:8: FutureWarning: BayesianModel has been renamed to BayesianNetwork. Please use BayesianNetwork class, BayesianModel will be removed in future.\n",
      "  warnings.warn(\n"
     ]
    }
   ],
   "source": [
    "raw_data = np.random.randint(low=0,high=2,size=(1000, 5))\n",
    "\n",
    "data = pd.DataFrame(raw_data,columns=[\"D\", \"I\", \"G\",\"L\", \"S\"])\n",
    "\n",
    "print(data[: int(data.shape[0]*0.75)])\n",
    "\n",
    "data_train = data[: int(data.shape[0] * 0.75)]\n",
    "\n",
    "model = BayesianModel([('D', 'G'), ('I', 'G'), ('G', 'L'), ('I', 'S')])\n",
    "model.fit(data_train)\n",
    "print(model.get_cpds('D'))"
   ]
  },
  {
   "cell_type": "code",
   "execution_count": 30,
   "metadata": {},
   "outputs": [
    {
     "name": "stdout",
     "output_type": "stream",
     "text": [
      "+------+--------------------+-----+--------------------+\n",
      "| D    | D(0)               | ... | D(1)               |\n",
      "+------+--------------------+-----+--------------------+\n",
      "| I    | I(0)               | ... | I(1)               |\n",
      "+------+--------------------+-----+--------------------+\n",
      "| G(0) | 0.4869109947643979 | ... | 0.5153061224489796 |\n",
      "+------+--------------------+-----+--------------------+\n",
      "| G(1) | 0.5130890052356021 | ... | 0.4846938775510204 |\n",
      "+------+--------------------+-----+--------------------+\n"
     ]
    }
   ],
   "source": [
    "print(model.get_cpds('G'))"
   ]
  },
  {
   "cell_type": "code",
   "execution_count": 31,
   "metadata": {},
   "outputs": [
    {
     "data": {
      "text/plain": [
       "{'D': {'D', 'G', 'L'}}"
      ]
     },
     "execution_count": 31,
     "metadata": {},
     "output_type": "execute_result"
    }
   ],
   "source": [
    "model.active_trail_nodes('D')"
   ]
  },
  {
   "cell_type": "code",
   "execution_count": 32,
   "metadata": {},
   "outputs": [
    {
     "data": {
      "text/plain": [
       "(G ⟂ S | I, D)"
      ]
     },
     "execution_count": 32,
     "metadata": {},
     "output_type": "execute_result"
    }
   ],
   "source": [
    "model.local_independencies('G')"
   ]
  },
  {
   "cell_type": "code",
   "execution_count": 33,
   "metadata": {},
   "outputs": [
    {
     "data": {
      "text/plain": [
       "(D ⟂ I, S)\n",
       "(D ⟂ L | G)\n",
       "(D ⟂ S | I)\n",
       "(D ⟂ I | S)\n",
       "(D ⟂ S, L | I, G)\n",
       "(D ⟂ L | S, G)\n",
       "(D ⟂ S | I, L)\n",
       "(D ⟂ L | I, S, G)\n",
       "(D ⟂ S | I, L, G)\n",
       "(L ⟂ S | I)\n",
       "(L ⟂ I, S, D | G)\n",
       "(L ⟂ I, D | S, G)\n",
       "(L ⟂ S | I, D)\n",
       "(L ⟂ S, D | I, G)\n",
       "(L ⟂ I, S | D, G)\n",
       "(L ⟂ D | I, S, G)\n",
       "(L ⟂ I | S, G, D)\n",
       "(L ⟂ S | I, D, G)\n",
       "(I ⟂ D)\n",
       "(I ⟂ D | S)\n",
       "(I ⟂ L | G)\n",
       "(I ⟂ L | S, G)\n",
       "(I ⟂ L | D, G)\n",
       "(I ⟂ L | S, G, D)\n",
       "(S ⟂ D)\n",
       "(S ⟂ L | G)\n",
       "(S ⟂ G, D, L | I)\n",
       "(S ⟂ D, L | I, G)\n",
       "(S ⟂ L | D, G)\n",
       "(S ⟂ G, L | I, D)\n",
       "(S ⟂ D, G | I, L)\n",
       "(S ⟂ L | I, D, G)\n",
       "(S ⟂ D | I, L, G)\n",
       "(S ⟂ G | I, D, L)\n",
       "(G ⟂ S | I)\n",
       "(G ⟂ S | I, D)\n",
       "(G ⟂ S | I, L)\n",
       "(G ⟂ S | I, D, L)"
      ]
     },
     "execution_count": 33,
     "metadata": {},
     "output_type": "execute_result"
    }
   ],
   "source": [
    "model.get_independencies()"
   ]
  },
  {
   "cell_type": "code",
   "execution_count": 34,
   "metadata": {},
   "outputs": [],
   "source": [
    "data_test = data[int(0.75 * data.shape[0]) : data.shape[0]]"
   ]
  },
  {
   "cell_type": "code",
   "execution_count": 35,
   "metadata": {},
   "outputs": [
    {
     "name": "stderr",
     "output_type": "stream",
     "text": [
      "100%|██████████| 16/16 [00:00<00:00, 51.76it/s]\n",
      "/Applications/anaconda3/envs/559/lib/python3.10/site-packages/pgmpy/models/BayesianModel.py:8: FutureWarning: BayesianModel has been renamed to BayesianNetwork. Please use BayesianNetwork class, BayesianModel will be removed in future.\n",
      "  warnings.warn(\n",
      "/Applications/anaconda3/envs/559/lib/python3.10/site-packages/pgmpy/models/BayesianModel.py:8: FutureWarning: BayesianModel has been renamed to BayesianNetwork. Please use BayesianNetwork class, BayesianModel will be removed in future.\n",
      "  warnings.warn(\n",
      "/Applications/anaconda3/envs/559/lib/python3.10/site-packages/pgmpy/models/BayesianModel.py:8: FutureWarning: BayesianModel has been renamed to BayesianNetwork. Please use BayesianNetwork class, BayesianModel will be removed in future.\n",
      "  warnings.warn(\n",
      "/Applications/anaconda3/envs/559/lib/python3.10/site-packages/pgmpy/models/BayesianModel.py:8: FutureWarning: BayesianModel has been renamed to BayesianNetwork. Please use BayesianNetwork class, BayesianModel will be removed in future.\n",
      "  warnings.warn(\n",
      "/Applications/anaconda3/envs/559/lib/python3.10/site-packages/pgmpy/models/BayesianModel.py:8: FutureWarning: BayesianModel has been renamed to BayesianNetwork. Please use BayesianNetwork class, BayesianModel will be removed in future.\n",
      "  warnings.warn(\n",
      "/Applications/anaconda3/envs/559/lib/python3.10/site-packages/pgmpy/models/BayesianModel.py:8: FutureWarning: BayesianModel has been renamed to BayesianNetwork. Please use BayesianNetwork class, BayesianModel will be removed in future.\n",
      "  warnings.warn(\n",
      "/Applications/anaconda3/envs/559/lib/python3.10/site-packages/pgmpy/models/BayesianModel.py:8: FutureWarning: BayesianModel has been renamed to BayesianNetwork. Please use BayesianNetwork class, BayesianModel will be removed in future.\n",
      "  warnings.warn(\n",
      "/Applications/anaconda3/envs/559/lib/python3.10/site-packages/pgmpy/models/BayesianModel.py:8: FutureWarning: BayesianModel has been renamed to BayesianNetwork. Please use BayesianNetwork class, BayesianModel will be removed in future.\n",
      "  warnings.warn(\n",
      "/Applications/anaconda3/envs/559/lib/python3.10/site-packages/pgmpy/models/BayesianModel.py:8: FutureWarning: BayesianModel has been renamed to BayesianNetwork. Please use BayesianNetwork class, BayesianModel will be removed in future.\n",
      "  warnings.warn(\n",
      "/Applications/anaconda3/envs/559/lib/python3.10/site-packages/pgmpy/models/BayesianModel.py:8: FutureWarning: BayesianModel has been renamed to BayesianNetwork. Please use BayesianNetwork class, BayesianModel will be removed in future.\n",
      "  warnings.warn(\n",
      "/Applications/anaconda3/envs/559/lib/python3.10/site-packages/pgmpy/models/BayesianModel.py:8: FutureWarning: BayesianModel has been renamed to BayesianNetwork. Please use BayesianNetwork class, BayesianModel will be removed in future.\n",
      "  warnings.warn(\n",
      "/Applications/anaconda3/envs/559/lib/python3.10/site-packages/pgmpy/models/BayesianModel.py:8: FutureWarning: BayesianModel has been renamed to BayesianNetwork. Please use BayesianNetwork class, BayesianModel will be removed in future.\n",
      "  warnings.warn(\n"
     ]
    }
   ],
   "source": [
    "#data_test.drop('G', axis=1, inplace=True)\n",
    "\n",
    "pred=model.predict(data_train.drop('G',axis=1))"
   ]
  },
  {
   "cell_type": "code",
   "execution_count": 36,
   "metadata": {},
   "outputs": [],
   "source": [
    "from sklearn.metrics import accuracy_score"
   ]
  },
  {
   "cell_type": "code",
   "execution_count": 37,
   "metadata": {},
   "outputs": [
    {
     "data": {
      "text/plain": [
       "0.5226666666666666"
      ]
     },
     "execution_count": 37,
     "metadata": {},
     "output_type": "execute_result"
    }
   ],
   "source": [
    "accuracy_score(data_train['G'],pred)"
   ]
  },
  {
   "cell_type": "code",
   "execution_count": 38,
   "metadata": {},
   "outputs": [
    {
     "name": "stderr",
     "output_type": "stream",
     "text": [
      "100%|██████████| 16/16 [00:00<00:00, 5990.79it/s]\n"
     ]
    },
    {
     "data": {
      "text/plain": [
       "0.504"
      ]
     },
     "execution_count": 38,
     "metadata": {},
     "output_type": "execute_result"
    }
   ],
   "source": [
    "pred = model.predict(data_test.drop('G',axis=1))\n",
    "accuracy_score(data_test['G'],pred)"
   ]
  }
 ],
 "metadata": {
  "kernelspec": {
   "display_name": "Python 3.10.4 ('559')",
   "language": "python",
   "name": "python3"
  },
  "language_info": {
   "codemirror_mode": {
    "name": "ipython",
    "version": 3
   },
   "file_extension": ".py",
   "mimetype": "text/x-python",
   "name": "python",
   "nbconvert_exporter": "python",
   "pygments_lexer": "ipython3",
   "version": "3.10.4"
  },
  "vscode": {
   "interpreter": {
    "hash": "814950ec8b8c7032d23fac38b059fcb51ad391395255f22f9a4e55af65449f0a"
   }
  }
 },
 "nbformat": 4,
 "nbformat_minor": 4
}
