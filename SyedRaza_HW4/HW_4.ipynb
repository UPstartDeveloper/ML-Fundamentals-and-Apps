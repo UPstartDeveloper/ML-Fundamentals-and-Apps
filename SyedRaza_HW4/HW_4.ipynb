{
  "cells": [
    {
      "cell_type": "markdown",
      "metadata": {
        "id": "lhnq4YzdybKY"
      },
      "source": [
        "**Question 1 [ 40 Points ] - Support Vector Machines (SVMs)** \n",
        "\n",
        "[25 points ] Download this dataset, split it as a 80% training and 20% test set. and implement the support vector algorithm from scratch using Numpy and Pandas.\n",
        "\n",
        "[10 points ] Report the accuracies for the train and test sets. Comment on whether your model has overfit.\n",
        "\n",
        "[5 points] Test your model performance with the scikit-learn model. Comment on the difference in accuracy. \n"
      ]
    },
    {
      "cell_type": "code",
      "execution_count": 2,
      "metadata": {
        "id": "I49gdoFFyR7D"
      },
      "outputs": [],
      "source": [
        "class SVM():\n",
        "    def __init__(self):\n",
        "        #Fill it in\n",
        "        ...\n",
        "\n",
        "    def fit(self):\n",
        "        #Fill it in\n",
        "        ...\n",
        "  \n",
        "    def predict(self):\n",
        "        #Fill it in\n",
        "        ...\n"
      ]
    },
    {
      "cell_type": "code",
      "execution_count": null,
      "metadata": {
        "id": "INzXYmZWzrFg"
      },
      "outputs": [],
      "source": [
        "model = SVM()\n",
        "model.fit('Dataset')"
      ]
    },
    {
      "cell_type": "markdown",
      "metadata": {
        "id": "wcdbdv0Sz3Xz"
      },
      "source": [
        "Training accuracy : \n",
        "\n",
        "Test accuracy : "
      ]
    },
    {
      "cell_type": "markdown",
      "metadata": {
        "id": "ES4uUFwXz-aX"
      },
      "source": [
        "**Question 2 [ 40 Points ] - Decision Trees** \n",
        "\n",
        "a. [5 points] Complete the test_split function.\n",
        "\n",
        "b. [5 points] Complete the gini_index function.\n",
        "\n",
        "c. [5 points] Complete the get_split function.\n",
        "\n",
        "d. [15 points] Complete the split function.\n",
        "\n",
        "e. [10 points] Print the tree. "
      ]
    },
    {
      "cell_type": "code",
      "execution_count": 3,
      "metadata": {
        "id": "kDRZCShz45P3"
      },
      "outputs": [],
      "source": [
        "from sklearn.datasets import load_iris\n",
        "import numpy as np"
      ]
    },
    {
      "cell_type": "code",
      "execution_count": 4,
      "metadata": {
        "id": "FqI3dUn-z95m"
      },
      "outputs": [],
      "source": [
        "# Split a dataset based on an attribute and an attribute value\n",
        "def test_split(index, value, dataset):\n",
        "\tleft, right = list(), list()\n",
        "\tfor row in dataset:\n",
        "\t\t#Fill it in\n",
        "\t\t...\n",
        "\treturn left, right"
      ]
    },
    {
      "cell_type": "code",
      "execution_count": 5,
      "metadata": {
        "id": "q338FeZs0p51"
      },
      "outputs": [],
      "source": [
        "# Calculate the Gini index for a split dataset\n",
        "def gini_index(groups, classes):\n",
        "\t# count all samples at split point\n",
        "\tn_instances = None #Fill it in \n",
        "\n",
        "\t# sum weighted Gini index for each group\n",
        "\tgini = 0.0\n",
        "\tfor group in groups:\n",
        "\t\t#Fill it in\n",
        "\t\t...\n",
        "\treturn gini"
      ]
    },
    {
      "cell_type": "code",
      "execution_count": 6,
      "metadata": {
        "id": "PL6EsIaM05EJ"
      },
      "outputs": [],
      "source": [
        "# Select the best split point for a dataset\n",
        "def get_split(dataset):\n",
        "\tclass_values = list(set(row[-1] for row in dataset))\n",
        "\tb_index, b_value, b_score, b_groups = 999, 999, 999, None\n",
        "\n",
        "\tfor index in range(len(dataset[0])-1):\n",
        "\t\tfor row in dataset:\n",
        "\t\t\tgroups = None #Hint : Call the test_split function here. \n",
        "\t\t\tgini = None #Hint : Call the gini_index function here. \n",
        "\t\t\tif gini < b_score:\n",
        "\t\t\t\tb_index, b_value, b_score, b_groups = None, None, None, None #Fill it in\n",
        "        \n",
        "\treturn {'index':b_index, 'value':b_value, 'groups':b_groups}"
      ]
    },
    {
      "cell_type": "code",
      "execution_count": 7,
      "metadata": {
        "id": "cb_s3CsC1aGV"
      },
      "outputs": [],
      "source": [
        "# Create a terminal node value\n",
        "def to_terminal(group):\n",
        "\toutcomes = [row[-1] for row in group]\n",
        "\treturn max(set(outcomes), key=outcomes.count)"
      ]
    },
    {
      "cell_type": "code",
      "execution_count": 8,
      "metadata": {
        "id": "0Fv9McfA1cuP"
      },
      "outputs": [],
      "source": [
        "# Create child splits for a node or make terminal\n",
        "#Hint : Just call the to_terminal and get_split functions defined above. \n",
        "\n",
        "def split(node, max_depth, min_size, depth):\n",
        "\tleft, right = node['groups']\n",
        "\tdel(node['groups'])\n",
        " \n",
        "\t# check for a no split\n",
        "\tif not left or not right:\n",
        "\t\tnode['left'] = node['right'] = None #Fill it in\n",
        "\t\treturn\n",
        "\t# check for max depth\n",
        "\tif depth >= max_depth:\n",
        "\t\tnode['left'], node['right'] = None, None #Fill it in\n",
        "\t\treturn\n",
        "\n",
        "\t# process left child\n",
        "\tif len(left) <= min_size:\n",
        "\t\tnode['left'] = None #Fill it in\n",
        "\telse:\n",
        "\t\tnode['left'] = None #Fill it in\n",
        "\t\tsplit(node['left'], max_depth, min_size, depth+1)\n",
        "  \n",
        "\t# process right child\n",
        "\tif len(right) <= min_size:\n",
        "\t\tnode['right'] = None #Fill it in\n",
        "\telse:\n",
        "\t\tnode['right'] = None #Fill it in\n",
        "\t\tsplit(node['right'], max_depth, min_size, depth+1)"
      ]
    },
    {
      "cell_type": "code",
      "execution_count": 9,
      "metadata": {
        "id": "KQiNy9NE2IoJ"
      },
      "outputs": [],
      "source": [
        "# Build a decision tree\n",
        "def build_tree(train, max_depth, min_size):\n",
        "\troot = get_split(train)\n",
        "\tsplit(root, max_depth, min_size, 1)\n",
        "\treturn root"
      ]
    },
    {
      "cell_type": "code",
      "execution_count": 10,
      "metadata": {
        "id": "rSYBf-DQ2LYs"
      },
      "outputs": [],
      "source": [
        "# Print a decision tree\n",
        "def print_tree(node, depth=0):\n",
        "\tif isinstance(node, dict):\n",
        "\t\tprint('%s[X%d < %.3f]' % ((depth*' ', (node['index']+1), node['value'])))\n",
        "\t\tprint_tree(node['left'], depth+1)\n",
        "\t\tprint_tree(node['right'], depth+1)\n",
        "\telse:\n",
        "\t\tprint('%s[%s]' % ((depth*' ', node)))"
      ]
    },
    {
      "cell_type": "code",
      "execution_count": 11,
      "metadata": {
        "id": "MkuT-7SY40Yu"
      },
      "outputs": [],
      "source": [
        "iris = load_iris()\n",
        "\n",
        "X = np.array(iris.data)\n",
        "y = np.array(iris.target).reshape(-1,1)\n",
        "\n",
        "data = np.append(X,y,axis=1)"
      ]
    },
    {
      "cell_type": "code",
      "execution_count": 12,
      "metadata": {
        "id": "42ivIbmh2j5Y"
      },
      "outputs": [
        {
          "ename": "TypeError",
          "evalue": "'<' not supported between instances of 'NoneType' and 'int'",
          "output_type": "error",
          "traceback": [
            "\u001b[0;31m---------------------------------------------------------------------------\u001b[0m",
            "\u001b[0;31mTypeError\u001b[0m                                 Traceback (most recent call last)",
            "\u001b[1;32m/Users/zainraza/Downloads/dev/courses/Stevens/CS-559/SyedRaza_HW4/HW_4.ipynb Cell 15\u001b[0m in \u001b[0;36m<cell line: 1>\u001b[0;34m()\u001b[0m\n\u001b[0;32m----> <a href='vscode-notebook-cell:/Users/zainraza/Downloads/dev/courses/Stevens/CS-559/SyedRaza_HW4/HW_4.ipynb#X20sZmlsZQ%3D%3D?line=0'>1</a>\u001b[0m tree \u001b[39m=\u001b[39m build_tree(data, \u001b[39m1\u001b[39;49m, \u001b[39m1\u001b[39;49m)\n\u001b[1;32m      <a href='vscode-notebook-cell:/Users/zainraza/Downloads/dev/courses/Stevens/CS-559/SyedRaza_HW4/HW_4.ipynb#X20sZmlsZQ%3D%3D?line=1'>2</a>\u001b[0m print_tree(tree)\n",
            "\u001b[1;32m/Users/zainraza/Downloads/dev/courses/Stevens/CS-559/SyedRaza_HW4/HW_4.ipynb Cell 15\u001b[0m in \u001b[0;36mbuild_tree\u001b[0;34m(train, max_depth, min_size)\u001b[0m\n\u001b[1;32m      <a href='vscode-notebook-cell:/Users/zainraza/Downloads/dev/courses/Stevens/CS-559/SyedRaza_HW4/HW_4.ipynb#X20sZmlsZQ%3D%3D?line=1'>2</a>\u001b[0m \u001b[39mdef\u001b[39;00m \u001b[39mbuild_tree\u001b[39m(train, max_depth, min_size):\n\u001b[0;32m----> <a href='vscode-notebook-cell:/Users/zainraza/Downloads/dev/courses/Stevens/CS-559/SyedRaza_HW4/HW_4.ipynb#X20sZmlsZQ%3D%3D?line=2'>3</a>\u001b[0m \troot \u001b[39m=\u001b[39m get_split(train)\n\u001b[1;32m      <a href='vscode-notebook-cell:/Users/zainraza/Downloads/dev/courses/Stevens/CS-559/SyedRaza_HW4/HW_4.ipynb#X20sZmlsZQ%3D%3D?line=3'>4</a>\u001b[0m \tsplit(root, max_depth, min_size, \u001b[39m1\u001b[39m)\n\u001b[1;32m      <a href='vscode-notebook-cell:/Users/zainraza/Downloads/dev/courses/Stevens/CS-559/SyedRaza_HW4/HW_4.ipynb#X20sZmlsZQ%3D%3D?line=4'>5</a>\u001b[0m \t\u001b[39mreturn\u001b[39;00m root\n",
            "\u001b[1;32m/Users/zainraza/Downloads/dev/courses/Stevens/CS-559/SyedRaza_HW4/HW_4.ipynb Cell 15\u001b[0m in \u001b[0;36mget_split\u001b[0;34m(dataset)\u001b[0m\n\u001b[1;32m      <a href='vscode-notebook-cell:/Users/zainraza/Downloads/dev/courses/Stevens/CS-559/SyedRaza_HW4/HW_4.ipynb#X20sZmlsZQ%3D%3D?line=7'>8</a>\u001b[0m \t\tgroups \u001b[39m=\u001b[39m \u001b[39mNone\u001b[39;00m \u001b[39m#Hint : Call the test_split function here. \u001b[39;00m\n\u001b[1;32m      <a href='vscode-notebook-cell:/Users/zainraza/Downloads/dev/courses/Stevens/CS-559/SyedRaza_HW4/HW_4.ipynb#X20sZmlsZQ%3D%3D?line=8'>9</a>\u001b[0m \t\tgini \u001b[39m=\u001b[39m \u001b[39mNone\u001b[39;00m \u001b[39m#Hint : Call the gini_index function here. \u001b[39;00m\n\u001b[0;32m---> <a href='vscode-notebook-cell:/Users/zainraza/Downloads/dev/courses/Stevens/CS-559/SyedRaza_HW4/HW_4.ipynb#X20sZmlsZQ%3D%3D?line=9'>10</a>\u001b[0m \t\t\u001b[39mif\u001b[39;00m gini \u001b[39m<\u001b[39;49m b_score:\n\u001b[1;32m     <a href='vscode-notebook-cell:/Users/zainraza/Downloads/dev/courses/Stevens/CS-559/SyedRaza_HW4/HW_4.ipynb#X20sZmlsZQ%3D%3D?line=10'>11</a>\u001b[0m \t\t\tb_index, b_value, b_score, b_groups \u001b[39m=\u001b[39m \u001b[39mNone\u001b[39;00m, \u001b[39mNone\u001b[39;00m, \u001b[39mNone\u001b[39;00m, \u001b[39mNone\u001b[39;00m \u001b[39m#Fill it in\u001b[39;00m\n\u001b[1;32m     <a href='vscode-notebook-cell:/Users/zainraza/Downloads/dev/courses/Stevens/CS-559/SyedRaza_HW4/HW_4.ipynb#X20sZmlsZQ%3D%3D?line=12'>13</a>\u001b[0m \u001b[39mreturn\u001b[39;00m {\u001b[39m'\u001b[39m\u001b[39mindex\u001b[39m\u001b[39m'\u001b[39m:b_index, \u001b[39m'\u001b[39m\u001b[39mvalue\u001b[39m\u001b[39m'\u001b[39m:b_value, \u001b[39m'\u001b[39m\u001b[39mgroups\u001b[39m\u001b[39m'\u001b[39m:b_groups}\n",
            "\u001b[0;31mTypeError\u001b[0m: '<' not supported between instances of 'NoneType' and 'int'"
          ]
        }
      ],
      "source": [
        "tree = build_tree(data, 1, 1)\n",
        "print_tree(tree)"
      ]
    },
    {
      "cell_type": "markdown",
      "metadata": {
        "id": "CAEFoJMP70So"
      },
      "source": [
        "## Question 3 [ 20 Points ]\n",
        "\n",
        "**Random Forests and Boosting**\n"
      ]
    },
    {
      "cell_type": "markdown",
      "metadata": {},
      "source": [
        "### Loading Data"
      ]
    },
    {
      "cell_type": "code",
      "execution_count": 13,
      "metadata": {},
      "outputs": [],
      "source": [
        "import pandas as pd"
      ]
    },
    {
      "cell_type": "code",
      "execution_count": 14,
      "metadata": {},
      "outputs": [],
      "source": [
        "col_names = [\n",
        "    \"buying\", \"maint\", \"doors\",\n",
        "    \"persons\", \"lug_boot\", \"safety\"\n",
        "]"
      ]
    },
    {
      "cell_type": "code",
      "execution_count": 16,
      "metadata": {
        "id": "U1feyKIo73h5"
      },
      "outputs": [],
      "source": [
        "car_df = pd.read_csv(\n",
        "    './car/car.data',\n",
        "    sep=\",\", usecols=list(range(0, 6)), names=col_names,\n",
        ")"
      ]
    },
    {
      "cell_type": "code",
      "execution_count": 17,
      "metadata": {},
      "outputs": [
        {
          "data": {
            "text/html": [
              "<div>\n",
              "<style scoped>\n",
              "    .dataframe tbody tr th:only-of-type {\n",
              "        vertical-align: middle;\n",
              "    }\n",
              "\n",
              "    .dataframe tbody tr th {\n",
              "        vertical-align: top;\n",
              "    }\n",
              "\n",
              "    .dataframe thead th {\n",
              "        text-align: right;\n",
              "    }\n",
              "</style>\n",
              "<table border=\"1\" class=\"dataframe\">\n",
              "  <thead>\n",
              "    <tr style=\"text-align: right;\">\n",
              "      <th></th>\n",
              "      <th>buying</th>\n",
              "      <th>maint</th>\n",
              "      <th>doors</th>\n",
              "      <th>persons</th>\n",
              "      <th>lug_boot</th>\n",
              "      <th>safety</th>\n",
              "    </tr>\n",
              "  </thead>\n",
              "  <tbody>\n",
              "    <tr>\n",
              "      <th>0</th>\n",
              "      <td>vhigh</td>\n",
              "      <td>vhigh</td>\n",
              "      <td>2</td>\n",
              "      <td>2</td>\n",
              "      <td>small</td>\n",
              "      <td>low</td>\n",
              "    </tr>\n",
              "    <tr>\n",
              "      <th>1</th>\n",
              "      <td>vhigh</td>\n",
              "      <td>vhigh</td>\n",
              "      <td>2</td>\n",
              "      <td>2</td>\n",
              "      <td>small</td>\n",
              "      <td>med</td>\n",
              "    </tr>\n",
              "    <tr>\n",
              "      <th>2</th>\n",
              "      <td>vhigh</td>\n",
              "      <td>vhigh</td>\n",
              "      <td>2</td>\n",
              "      <td>2</td>\n",
              "      <td>small</td>\n",
              "      <td>high</td>\n",
              "    </tr>\n",
              "    <tr>\n",
              "      <th>3</th>\n",
              "      <td>vhigh</td>\n",
              "      <td>vhigh</td>\n",
              "      <td>2</td>\n",
              "      <td>2</td>\n",
              "      <td>med</td>\n",
              "      <td>low</td>\n",
              "    </tr>\n",
              "    <tr>\n",
              "      <th>4</th>\n",
              "      <td>vhigh</td>\n",
              "      <td>vhigh</td>\n",
              "      <td>2</td>\n",
              "      <td>2</td>\n",
              "      <td>med</td>\n",
              "      <td>med</td>\n",
              "    </tr>\n",
              "  </tbody>\n",
              "</table>\n",
              "</div>"
            ],
            "text/plain": [
              "  buying  maint doors persons lug_boot safety\n",
              "0  vhigh  vhigh     2       2    small    low\n",
              "1  vhigh  vhigh     2       2    small    med\n",
              "2  vhigh  vhigh     2       2    small   high\n",
              "3  vhigh  vhigh     2       2      med    low\n",
              "4  vhigh  vhigh     2       2      med    med"
            ]
          },
          "execution_count": 17,
          "metadata": {},
          "output_type": "execute_result"
        }
      ],
      "source": [
        "car_df.head()"
      ]
    },
    {
      "cell_type": "code",
      "execution_count": 18,
      "metadata": {},
      "outputs": [],
      "source": [
        "features = col_names[:-1]\n",
        "target = [col_names[-1]]"
      ]
    },
    {
      "cell_type": "markdown",
      "metadata": {},
      "source": [
        "### Preprocessing & Splitting Data \n",
        "\n",
        "The approach I'll go with here is that because all the features are *technically* categorical, I'll one-hot encode them:"
      ]
    },
    {
      "cell_type": "code",
      "execution_count": 20,
      "metadata": {},
      "outputs": [],
      "source": [
        "from sklearn import metrics, model_selection\n",
        "from sklearn.preprocessing import OneHotEncoder"
      ]
    },
    {
      "cell_type": "code",
      "execution_count": 21,
      "metadata": {},
      "outputs": [],
      "source": [
        "encoded_data = dict()\n",
        "enc = OneHotEncoder(handle_unknown='ignore')\n",
        "for feat in features:\n",
        "    input_feat = car_df[feat].values.reshape(-1, 1)\n",
        "    encoded_feat = enc.fit_transform(input_feat).toarray()\n",
        "    encoded_data[feat] = encoded_feat\n",
        "\n",
        "X = np.column_stack(list(\n",
        "    encoded_data.values()\n",
        "))"
      ]
    },
    {
      "cell_type": "markdown",
      "metadata": {},
      "source": [
        "For the target column, I'll merely use sparse integer encoding:"
      ]
    },
    {
      "cell_type": "code",
      "execution_count": 30,
      "metadata": {},
      "outputs": [],
      "source": [
        "classes = car_df[\"safety\"].unique().tolist()\n",
        "convert_to_int = lambda label: classes.index(label)"
      ]
    },
    {
      "cell_type": "code",
      "execution_count": 36,
      "metadata": {},
      "outputs": [],
      "source": [
        "y = car_df[\"safety\"].transform(convert_to_int)"
      ]
    },
    {
      "cell_type": "code",
      "execution_count": 38,
      "metadata": {},
      "outputs": [],
      "source": [
        "X_train, X_test, y_train, y_test = model_selection.train_test_split(X, y, test_size=0.2, random_state=42)"
      ]
    },
    {
      "cell_type": "markdown",
      "metadata": {},
      "source": [
        "### Training and Comparing Ensembles"
      ]
    },
    {
      "cell_type": "markdown",
      "metadata": {},
      "source": [
        "First model - Random Forest coming right up:"
      ]
    },
    {
      "cell_type": "code",
      "execution_count": 48,
      "metadata": {},
      "outputs": [],
      "source": [
        "from sklearn.ensemble import RandomForestClassifier"
      ]
    },
    {
      "cell_type": "code",
      "execution_count": 56,
      "metadata": {},
      "outputs": [
        {
          "name": "stdout",
          "output_type": "stream",
          "text": [
            "Random Forest Train Accuracy: 100%\n",
            "Random Forest Test Accuracy: 28.3237%\n"
          ]
        }
      ],
      "source": [
        "rf_clf = RandomForestClassifier(\n",
        "    n_estimators=100, max_depth=1, \n",
        "    random_state=0, oob_score=True).fit(X_train, y_train)\n",
        "\n",
        "y_pred = rf_clf.predict(X_test)\n",
        "test_accuracy = metrics.accuracy_score(y_test, y_pred)\n",
        "print(f\"Random Forest Train Accuracy: {round(rf_clf.oob_score * 100, 4)}%\")\n",
        "print(f\"Random Forest Test Accuracy: {round(test_accuracy * 100, 4)}%\")\n"
      ]
    },
    {
      "cell_type": "markdown",
      "metadata": {},
      "source": [
        "Second model: Gradient Boosting, anyone?"
      ]
    },
    {
      "cell_type": "code",
      "execution_count": 39,
      "metadata": {},
      "outputs": [],
      "source": [
        "from sklearn.ensemble import GradientBoostingClassifier"
      ]
    },
    {
      "cell_type": "code",
      "execution_count": 63,
      "metadata": {},
      "outputs": [
        {
          "name": "stdout",
          "output_type": "stream",
          "text": [
            "Gradient Boosted Classifier Train Accuracy: 36.5412%\n",
            "Gradient Boosted Classifier Test Accuracy: 20.5202%\n"
          ]
        }
      ],
      "source": [
        "grad_boost_clf = GradientBoostingClassifier(\n",
        "    n_estimators=100, learning_rate=1.0,\n",
        "    max_depth=1, random_state=0).fit(X_train, y_train)\n",
        "\n",
        "# get preds so we can eval accuracy\n",
        "y_pred = grad_boost_clf.predict(X_train)\n",
        "train_accuracy = metrics.accuracy_score(y_train, y_pred)\n",
        "print(f\"Gradient Boosted Classifier Train Accuracy: {round(train_accuracy * 100, 4)}%\")\n",
        "\n",
        "y_pred = grad_boost_clf.predict(X_test)\n",
        "test_accuracy = metrics.accuracy_score(y_test, y_pred)\n",
        "print(f\"Gradient Boosted Classifier Test Accuracy: {round(test_accuracy * 100, 4)}%\")\n",
        "\n"
      ]
    },
    {
      "cell_type": "markdown",
      "metadata": {},
      "source": [
        "As we can see from above, the Random Forest classifier outperforms the Gradient Boosted by ~8% on the test dataset, when both were given the same 5 one-hot encoded features and hyperparameters for `n_estimators` and `max_depth`.\n",
        "\n",
        "Both model have higher train accuracies than their respective test accuracies, which suggests both have started overfitting. However, it appears to be much more severe in the case of the Random Forest, which has a perfect score for training accuracy (100%), vs. the ~36.54% for the Gradient Boosted tree."
      ]
    }
  ],
  "metadata": {
    "colab": {
      "provenance": []
    },
    "kernelspec": {
      "display_name": "559",
      "language": "python",
      "name": "python3"
    },
    "language_info": {
      "codemirror_mode": {
        "name": "ipython",
        "version": 3
      },
      "file_extension": ".py",
      "mimetype": "text/x-python",
      "name": "python",
      "nbconvert_exporter": "python",
      "pygments_lexer": "ipython3",
      "version": "3.10.4"
    },
    "vscode": {
      "interpreter": {
        "hash": "814950ec8b8c7032d23fac38b059fcb51ad391395255f22f9a4e55af65449f0a"
      }
    }
  },
  "nbformat": 4,
  "nbformat_minor": 0
}
