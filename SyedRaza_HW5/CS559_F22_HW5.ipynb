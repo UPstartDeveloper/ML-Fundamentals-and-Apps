{
 "cells": [
  {
   "cell_type": "markdown",
   "id": "102a0758",
   "metadata": {},
   "source": [
    "## <center> CS559 Machine Learning: Fundamentals and Applications</center>\n",
    "<center> Fall 2022 HW5</center>\n",
    "<center>Due: 12/16/2022 Friday 11:59 PM </center>"
   ]
  },
  {
   "cell_type": "markdown",
   "id": "37e2cb96",
   "metadata": {},
   "source": [
    "Homework assignments will be done individually: each student must hand in their own answers. Use of partial or entire solutions obtained from others or online is strictly prohibited. Electronic submission on Canvas is mandatory."
   ]
  },
  {
   "cell_type": "markdown",
   "id": "11037a17",
   "metadata": {},
   "source": [
    "# Graphical Models (30 pts)"
   ]
  },
  {
   "cell_type": "markdown",
   "id": "83ce17fb",
   "metadata": {},
   "source": [
    "Consider following tables:\n",
    "\n",
    "let C = random Bernoulli var\n",
    "\n",
    "||p(C)|\n",
    "|----|----|\n",
    "|F|0.65|\n",
    "|T|0.35|"
   ]
  },
  {
   "cell_type": "markdown",
   "id": "9491f1e5",
   "metadata": {},
   "source": [
    "let R and S also = random Bernoulli vars, conditional on C\n",
    "\n",
    "|C|p(S=F)|p(S=T)|p(R=F)|p(R=T)|\n",
    "|--|--|--|--|--|\n",
    "|F|0.7|0.3|0.8|0.2|\n",
    "|T|0.8|0.2|0.2|0.8|"
   ]
  },
  {
   "cell_type": "markdown",
   "id": "5c8519c7",
   "metadata": {},
   "source": [
    "let W = random Bernoulli vars, conditional on R and S\n",
    "\n",
    "|S|R|p(W=T)|p(W=F)|\n",
    "|-|-|---|---|\n",
    "|F|F|0.96|0.04|\n",
    "|T|F|0.15|0.85|\n",
    "|F|T|0.17|0.83|\n",
    "|T|T|0.02|0.98|"
   ]
  },
  {
   "attachments": {},
   "cell_type": "markdown",
   "id": "8acf9cb8",
   "metadata": {},
   "source": [
    "## Part A\n",
    "(5 pts) Using pgmpy, draw a conditional directed graph."
   ]
  },
  {
   "cell_type": "code",
   "execution_count": 28,
   "id": "4b6fafa4",
   "metadata": {},
   "outputs": [],
   "source": [
    "import daft\n",
    "from daft import PGM\n",
    "import matplotlib.pyplot as plt\n",
    "%matplotlib inline\n",
    "from pgmpy.models import BayesianNetwork"
   ]
  },
  {
   "cell_type": "code",
   "execution_count": 29,
   "id": "1cb32324",
   "metadata": {},
   "outputs": [],
   "source": [
    "def convert_pgm_to_pgmpy(pgm):\n",
    "    \"\"\"\n",
    "    Takes a Daft PGM object and converts it to a pgmpy BayesianModel.\n",
    "\n",
    "    (Function taken from class notebook).\n",
    "    \"\"\"\n",
    "    edges = [(edge.node1.name, edge.node2.name) for edge in pgm._edges]\n",
    "    model = BayesianNetwork(edges)\n",
    "    return model"
   ]
  },
  {
   "cell_type": "code",
   "execution_count": 30,
   "id": "3e2a992c",
   "metadata": {},
   "outputs": [
    {
     "data": {
      "text/plain": [
       "<Axes:>"
      ]
     },
     "execution_count": 30,
     "metadata": {},
     "output_type": "execute_result"
    },
    {
     "data": {
      "image/png": "[encoded data removed]",
      "text/plain": [
       "<Figure size 314.961x314.961 with 1 Axes>"
      ]
     },
     "metadata": {},
     "output_type": "display_data"
    }
   ],
   "source": [
    "pgm = PGM(shape=[4, 4])\n",
    "\n",
    "pgm.add_node(daft.Node('C', r\"C\", 2, 4))\n",
    "pgm.add_node(daft.Node('R', r\"R\", 1, 2.5))\n",
    "pgm.add_node(daft.Node('S', r\"S\", 3, 2.5))\n",
    "pgm.add_node(daft.Node('W', r\"W\", 2, 1))\n",
    "\n",
    "\n",
    "pgm.add_edge('C', 'R')\n",
    "pgm.add_edge('C', 'S')\n",
    "pgm.add_edge('S', 'W')\n",
    "pgm.add_edge('R', 'W')\n",
    "\n",
    "pgm.render()"
   ]
  },
  {
   "cell_type": "markdown",
   "id": "5c514edd",
   "metadata": {},
   "source": [
    "## Part B\n",
    "\n",
    "(5 pts) Calculate a probability p(C,S,R,W).\n",
    "\n",
    "$$\\begin{equation}\\begin{split}\n",
    "\\sum_{S,R\\in\\{T,F\\}}p(C,S,R,W)&=\\sum_{S,R\\in\\{T,F\\}}p(C=T|S,R)p(S,R|W)p(W)\\\\\n",
    "&=p(C=T|S=T,R=T)p(S=T|R=T)p(W=T)\\\\\n",
    "&\\,\\,+p(C=T|S=T,R=F)p(S=T|R=F)p(W=T)\\\\\n",
    "&\\,\\,+p(C=T|S=F,R=T)p(S=F|R=T)p(W=T)\\\\\n",
    "&\\,\\,+p(C=T|S=F,R=F)p(S=F|R=F)p(W=T)\\\\\n",
    "\\end{split}\\end{equation}$$"
   ]
  },
  {
   "cell_type": "code",
   "execution_count": 31,
   "id": "a4903cfe",
   "metadata": {},
   "outputs": [
    {
     "name": "stdout",
     "output_type": "stream",
     "text": [
      "Probability: 27.16%.\n"
     ]
    }
   ],
   "source": [
    "joint_probabilities = [\n",
    "    (0.2 * 0.8 * 0.02),  # P_CtStRtWt\n",
    "    (0.2 * 0.2 * 0.15),  # P_CtStRfWt\n",
    "    (0.8 * 0.8 * 0.17),  # P_CtSfRtWt\n",
    "    (0.8 * 0.2 * 0.96),  # P_CtSfRfWt\n",
    "    # (0.2 * 0.8 * 0.98),  # P_CtStRtWf\n",
    "    # (0.2 * 0.2 * 0.85),  # P_CtStRfWf\n",
    "    # (0.8 * 0.8 * 0.83),  # P_CtSfRtWf\n",
    "    # (0.8 * 0.2 * 0.04),  # P_CtSfRfWf\n",
    "]\n",
    "print(f\"Probability: {round(sum(joint_probabilities) * 100, 4)}%.\")\n"
   ]
  },
  {
   "cell_type": "markdown",
   "id": "846f7b47",
   "metadata": {},
   "source": [
    "## Part C\n",
    "(5 pts) Calculate a probability p(S=T|W=T).\n",
    "\n",
    "$$\\begin{equation}\\begin{split}\n",
    "P(S=T|W=T)&=\\frac{P(W=T|S=T)P(S=T)}{P(W=T)}\\\\\n",
    "&=\\frac{\\sum_{C\\in\\{T,F\\}}P(W=T,R,S=T)}{\\sum_{S,R\\in\\{T,F\\}}P(W=T,S,R)}\n",
    "\\end{split}\\end{equation}$$"
   ]
  },
  {
   "cell_type": "code",
   "execution_count": 32,
   "id": "11f6d259",
   "metadata": {},
   "outputs": [
    {
     "name": "stdout",
     "output_type": "stream",
     "text": [
      "Probability: 6.5385%.\n"
     ]
    }
   ],
   "source": [
    "# numerator\n",
    "P_WtStRt = 0.02\n",
    "P_WtStRf = 0.15\n",
    "P_WtSt = P_WtStRt + P_WtStRf\n",
    "\n",
    "P_StCt = 0.3\n",
    "P_StCf = 0.2\n",
    "P_St = P_StCt + P_StCf\n",
    "\n",
    "# denominator\n",
    "P_WtSfRt = 0.17\n",
    "P_WtSfRf = 0.96\n",
    "P_Wt = P_WtStRt + P_WtStRf + P_WtSfRt + P_WtSfRf\n",
    "\n",
    "# tying it all together!\n",
    "P_StWt = (P_WtSt * P_St) / (P_Wt)\n",
    "P_StWt\n",
    "print(f\"Probability: {round(P_StWt * 100, 4)}%.\")"
   ]
  },
  {
   "cell_type": "markdown",
   "id": "f8767335",
   "metadata": {},
   "source": [
    "## Part D\n",
    "(10 pts) Using a provided data table, `GM_train.csv`, train a graphical model using `pgmpy.models.BayesianModel` and report the accuracy. The target is W. "
   ]
  },
  {
   "cell_type": "code",
   "execution_count": 33,
   "id": "c615eb48",
   "metadata": {},
   "outputs": [],
   "source": [
    "import pandas as pd\n",
    "from sklearn import metrics"
   ]
  },
  {
   "cell_type": "code",
   "execution_count": 34,
   "id": "7ecff2dd",
   "metadata": {},
   "outputs": [
    {
     "data": {
      "text/html": [
       "<div>\n",
       "<style scoped>\n",
       "    .dataframe tbody tr th:only-of-type {\n",
       "        vertical-align: middle;\n",
       "    }\n",
       "\n",
       "    .dataframe tbody tr th {\n",
       "        vertical-align: top;\n",
       "    }\n",
       "\n",
       "    .dataframe thead th {\n",
       "        text-align: right;\n",
       "    }\n",
       "</style>\n",
       "<table border=\"1\" class=\"dataframe\">\n",
       "  <thead>\n",
       "    <tr style=\"text-align: right;\">\n",
       "      <th></th>\n",
       "      <th>C</th>\n",
       "      <th>S</th>\n",
       "      <th>R</th>\n",
       "      <th>W</th>\n",
       "    </tr>\n",
       "  </thead>\n",
       "  <tbody>\n",
       "    <tr>\n",
       "      <th>0</th>\n",
       "      <td>0</td>\n",
       "      <td>1</td>\n",
       "      <td>1</td>\n",
       "      <td>0</td>\n",
       "    </tr>\n",
       "    <tr>\n",
       "      <th>1</th>\n",
       "      <td>0</td>\n",
       "      <td>1</td>\n",
       "      <td>1</td>\n",
       "      <td>0</td>\n",
       "    </tr>\n",
       "    <tr>\n",
       "      <th>2</th>\n",
       "      <td>1</td>\n",
       "      <td>1</td>\n",
       "      <td>0</td>\n",
       "      <td>0</td>\n",
       "    </tr>\n",
       "    <tr>\n",
       "      <th>3</th>\n",
       "      <td>0</td>\n",
       "      <td>1</td>\n",
       "      <td>1</td>\n",
       "      <td>0</td>\n",
       "    </tr>\n",
       "    <tr>\n",
       "      <th>4</th>\n",
       "      <td>1</td>\n",
       "      <td>0</td>\n",
       "      <td>0</td>\n",
       "      <td>1</td>\n",
       "    </tr>\n",
       "  </tbody>\n",
       "</table>\n",
       "</div>"
      ],
      "text/plain": [
       "   C  S  R  W\n",
       "0  0  1  1  0\n",
       "1  0  1  1  0\n",
       "2  1  1  0  0\n",
       "3  0  1  1  0\n",
       "4  1  0  0  1"
      ]
     },
     "execution_count": 34,
     "metadata": {},
     "output_type": "execute_result"
    }
   ],
   "source": [
    "data_train = pd.read_csv(\"./GM_train.csv\")\n",
    "data_train.head()"
   ]
  },
  {
   "cell_type": "markdown",
   "id": "0daa1165",
   "metadata": {},
   "source": [
    "Training time!"
   ]
  },
  {
   "cell_type": "code",
   "execution_count": 35,
   "id": "3e464cd0",
   "metadata": {},
   "outputs": [
    {
     "name": "stdout",
     "output_type": "stream",
     "text": [
      "+------+------+------+---------------------+--------------------+\n",
      "| R    | R(0) | R(0) | R(1)                | R(1)               |\n",
      "+------+------+------+---------------------+--------------------+\n",
      "| S    | S(0) | S(1) | S(0)                | S(1)               |\n",
      "+------+------+------+---------------------+--------------------+\n",
      "| W(0) | 0.56 | 0.65 | 0.46153846153846156 | 0.5517241379310345 |\n",
      "+------+------+------+---------------------+--------------------+\n",
      "| W(1) | 0.44 | 0.35 | 0.5384615384615384  | 0.4482758620689655 |\n",
      "+------+------+------+---------------------+--------------------+\n"
     ]
    }
   ],
   "source": [
    "model = convert_pgm_to_pgmpy(pgm)\n",
    "model.fit(data_train)\n",
    "print(model.get_cpds(\"W\"))"
   ]
  },
  {
   "cell_type": "markdown",
   "id": "2be37783",
   "metadata": {},
   "source": [
    "Finally, let's get the training accuracy:"
   ]
  },
  {
   "cell_type": "code",
   "execution_count": 36,
   "id": "3c8a9448",
   "metadata": {},
   "outputs": [
    {
     "name": "stderr",
     "output_type": "stream",
     "text": [
      "100%|██████████| 8/8 [00:00<00:00, 6078.70it/s]\n"
     ]
    }
   ],
   "source": [
    "y_true = data_train[\"W\"]\n",
    "y_pred = model.predict(data_train.drop(\"W\", axis=1))"
   ]
  },
  {
   "cell_type": "code",
   "execution_count": 37,
   "id": "93fba21a",
   "metadata": {},
   "outputs": [
    {
     "name": "stdout",
     "output_type": "stream",
     "text": [
      "Train Accuracy: 57.0%.\n"
     ]
    }
   ],
   "source": [
    "train_acc = metrics.accuracy_score(y_true, y_pred)\n",
    "print(f\"Train Accuracy: {round(train_acc * 100, 4)}%.\")"
   ]
  },
  {
   "cell_type": "markdown",
   "id": "0babf17c",
   "metadata": {},
   "source": [
    "## Part E\n",
    "(5 pts) Generalize the model trained in **d** using `GM_test.csv`."
   ]
  },
  {
   "cell_type": "code",
   "execution_count": 38,
   "id": "7098c217",
   "metadata": {},
   "outputs": [
    {
     "name": "stderr",
     "output_type": "stream",
     "text": [
      "100%|██████████| 8/8 [00:00<00:00, 3096.28it/s]\n"
     ]
    },
    {
     "name": "stdout",
     "output_type": "stream",
     "text": [
      "Test Accuracy: 56.0%.\n"
     ]
    }
   ],
   "source": [
    "data_test = pd.read_csv(\"./GM_test.csv\")\n",
    "y_test = data_test[\"W\"]\n",
    "y_pred = model.predict(data_test.drop(\"W\", axis=1))\n",
    "test_acc = metrics.accuracy_score(y_test, y_pred)\n",
    "print(f\"Test Accuracy: {round(test_acc * 100, 4)}%.\")"
   ]
  },
  {
   "attachments": {},
   "cell_type": "markdown",
   "id": "c5fdb6e7",
   "metadata": {},
   "source": [
    "# Handwriting recognition: (70 pts)\n",
    "Handwriting recognition is a well-studied subject in computer vision and has found wide applications in our daily life (such as USPS mail sorting). In this project, we will explore various machine learning techniques for recognizing handwriting digits. The dataset you will be using is the well-known MINST dataset.\n",
    "\n",
    "(1)\tThe MNIST database of handwritten digits has a training set of 60,000 examples, and a test set of 10,000 examples. (http://yann.lecun.com/exdb/mnist/)\n",
    "\n",
    "(2)\tBelow is an example of some digits from the MNIST dataset.\n",
    "\n",
    "![Image of MINST](https://datasets.activeloop.ai/wp-content/uploads/2019/12/MNIST-handwritten-digits-dataset-visualized-by-Activeloop.webp)\n",
    "\n",
    "(3)\tThe goal of this assignment is to build a 10-class classifier to recognize those handwriting digits as accurately as you can.  All the assignments below should use the training data (60K examples) and test data (10 K examples) as given by the dataset."
   ]
  },
  {
   "attachments": {},
   "cell_type": "markdown",
   "id": "7115b7b9",
   "metadata": {},
   "source": [
    "a.\t(30 pts) Build several non-deep learning based classifiers using all pixels as features for handwriting recognition. You need to use at least **three techniques** we have learned from the class to do the work."
   ]
  },
  {
   "cell_type": "code",
   "execution_count": null,
   "id": "c67e2c2e",
   "metadata": {},
   "outputs": [],
   "source": []
  },
  {
   "cell_type": "markdown",
   "id": "03b98827",
   "metadata": {},
   "source": [
    "b.\t(10 pts) In this assignment, we will explore various techniques related to a neural network with hidden layers of more than 3 to solve the 10-class classification problem.\n",
    "\n",
    "Since there are many existing implementations to solve the MINST problem, we need to give some twists to this problem to make it worthwhile to do for our final assignment. (Please refer to the ranking list for MNIST at http://rodrigob.github.io/are_we_there_yet/build/classification_datasets_results.html.)\n",
    "\n",
    "The basic network structure that we are trying to explore is something like the following (i.e., the fully connected deep neural nets). The number of hidden layers and the size of each hidden layer in terms of neurons are left as tuning parameters that you can explore.\n",
    "\n",
    "![Image of NN](https://pimages.toolbox.com/wp-content/uploads/2022/05/18113202/The-Architecture-of-a-Neural-Network.png)"
   ]
  },
  {
   "cell_type": "code",
   "execution_count": null,
   "id": "8a08f873",
   "metadata": {},
   "outputs": [],
   "source": []
  },
  {
   "cell_type": "markdown",
   "id": "7e30aa9d",
   "metadata": {},
   "source": [
    "c.\t(30 pts) This assignment reflects the data collection process.\n",
    "- Hand write 5 styles of your own digits from 0 to 9 on a paper, and make sure your own handwritings are for sure recognizable by yourself. Please take a picture of each digit you write (so you have total 5 x 10 = 50 images), resize and convert it to the same data input format as the MNIST dataset. In other words, you have 50 new data points with labels.\n",
    "- Treat these 50 images as “brand-new” test dataset and run your own ML models from Question a and b on these 50 images and report the achieved test accuracy. Note, the goal for this exercise is not for achieving “high” accuracy, but to show what potential gaps there may be between existing MNIST dataset and your own test dataset, a scenario you would encounter in real life.\n",
    "- Use the following code for the image loading. \n"
   ]
  },
  {
   "cell_type": "code",
   "execution_count": null,
   "id": "c1ab1d1e",
   "metadata": {},
   "outputs": [],
   "source": [
    "#Import the Photos\n",
    "from matplotlib import pyplot as plt\n",
    "import cv2\n",
    "import os\n",
    "\n",
    "rootdir = \n",
    "\n",
    "def read_img(img_path):\n",
    "    img = cv2.imread(img_path)\n",
    "    x_img = np.array([0] * 784)\n",
    "\n",
    "\n",
    "    for i in range(28):\n",
    "        for j in range(28):\n",
    "            idx = i * 28 + j\n",
    "            x_img[idx] = 255 - img[i][j][0]\n",
    "            \n",
    "    return x_img, img\n",
    "    \n",
    "X_mydigits = []\n",
    "Y_mydigits = []\n",
    "digit_imgs = []\n",
    "\n",
    "# read handwritten digits\n",
    "for subdir, dirs, files in os.walk(rootdir):\n",
    "    for file in files:\n",
    "        if file.endswith(\".jpg\"):\n",
    "            path = os.path.join(subdir, file)\n",
    "            digit, img = read_img(path)\n",
    "            label = int(os.path.splitext(subdir)[0][-1])\n",
    "            X_mydigits.append(digit)\n",
    "            Y_mydigits.append(label)\n",
    "            digit_imgs.append(img)\n",
    "\n",
    "\n",
    "X_mydigits = np.array(X_mydigits)\n",
    "Y_mydigits = np.array(Y_mydigits)"
   ]
  },
  {
   "cell_type": "code",
   "execution_count": null,
   "id": "2ee7b0a1",
   "metadata": {},
   "outputs": [],
   "source": [
    "#Showing all my images\n",
    "temp_img = ''\n",
    "for i in range(5):\n",
    "    hor = ''\n",
    "    for j in range(10):\n",
    "        idx = i*10 + j\n",
    "        img = digit_imgs[idx]\n",
    "        if j == 0:\n",
    "            hor = img\n",
    "        else:\n",
    "            hor = np.hstack((hor, img))\n",
    "    if i == 0:\n",
    "        temp_img = hor\n",
    "    else:\n",
    "        temp_img = np.vstack((temp_img, hor))\n",
    "\n",
    "plt.imshow(temp_img)\n",
    "plt.axis('off')\n",
    "plt.show()"
   ]
  },
  {
   "cell_type": "markdown",
   "id": "d0ed5dd4",
   "metadata": {},
   "source": [
    "d.\tIn submission, the following is required for this assignment \n",
    "- Show all 50 images you create with the corresponding labels you intend to assign, \n",
    "- Make a table to show the test accuracy on these 50 images for each ML model you obtained from questions a to c.\n",
    "- Submit in a subfolder with your 50 handwriting dataset in MNIST format. \n"
   ]
  },
  {
   "cell_type": "code",
   "execution_count": null,
   "id": "9863570c",
   "metadata": {},
   "outputs": [],
   "source": []
  }
 ],
 "metadata": {
  "kernelspec": {
   "display_name": "Python 3.10.4 ('559')",
   "language": "python",
   "name": "python3"
  },
  "language_info": {
   "codemirror_mode": {
    "name": "ipython",
    "version": 3
   },
   "file_extension": ".py",
   "mimetype": "text/x-python",
   "name": "python",
   "nbconvert_exporter": "python",
   "pygments_lexer": "ipython3",
   "version": "3.10.4"
  },
  "vscode": {
   "interpreter": {
    "hash": "814950ec8b8c7032d23fac38b059fcb51ad391395255f22f9a4e55af65449f0a"
   }
  }
 },
 "nbformat": 4,
 "nbformat_minor": 5
}
