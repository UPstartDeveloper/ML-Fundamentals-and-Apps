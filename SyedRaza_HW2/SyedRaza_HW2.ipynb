{
  "cells": [
    {
      "cell_type": "code",
      "execution_count": 68,
      "metadata": {
        "id": "w2eeGms1rLfU"
      },
      "outputs": [],
      "source": [
        "import numpy as np\n",
        "import matplotlib.pyplot as plt\n",
        "from sklearn.metrics import accuracy_score\n",
        "from sklearn import datasets\n",
        "from sklearn.preprocessing import StandardScaler\n",
        "import pandas as pd"
      ]
    },
    {
      "cell_type": "markdown",
      "metadata": {},
      "source": [
        "# Load the train and test data"
      ]
    },
    {
      "cell_type": "code",
      "execution_count": 69,
      "metadata": {},
      "outputs": [],
      "source": [
        "df_train = pd.read_csv(\"train_data.txt\", sep=\" \", names=[\"col1\", \"col2\", \"col3\"])\n",
        "df_test = pd.read_csv(\"test_data.txt\", sep=\" \", names=[\"col1\", \"col2\", \"col3\"])"
      ]
    },
    {
      "cell_type": "code",
      "execution_count": 70,
      "metadata": {},
      "outputs": [
        {
          "data": {
            "text/html": [
              "<div>\n",
              "<style scoped>\n",
              "    .dataframe tbody tr th:only-of-type {\n",
              "        vertical-align: middle;\n",
              "    }\n",
              "\n",
              "    .dataframe tbody tr th {\n",
              "        vertical-align: top;\n",
              "    }\n",
              "\n",
              "    .dataframe thead th {\n",
              "        text-align: right;\n",
              "    }\n",
              "</style>\n",
              "<table border=\"1\" class=\"dataframe\">\n",
              "  <thead>\n",
              "    <tr style=\"text-align: right;\">\n",
              "      <th></th>\n",
              "      <th>col1</th>\n",
              "      <th>col2</th>\n",
              "      <th>col3</th>\n",
              "    </tr>\n",
              "  </thead>\n",
              "  <tbody>\n",
              "    <tr>\n",
              "      <th>0</th>\n",
              "      <td>-4.072524</td>\n",
              "      <td>-9.577501</td>\n",
              "      <td>0.0</td>\n",
              "    </tr>\n",
              "    <tr>\n",
              "      <th>1</th>\n",
              "      <td>-3.591656</td>\n",
              "      <td>-4.651351</td>\n",
              "      <td>2.0</td>\n",
              "    </tr>\n",
              "    <tr>\n",
              "      <th>2</th>\n",
              "      <td>-1.621404</td>\n",
              "      <td>-10.069722</td>\n",
              "      <td>0.0</td>\n",
              "    </tr>\n",
              "    <tr>\n",
              "      <th>3</th>\n",
              "      <td>-2.352587</td>\n",
              "      <td>-9.027460</td>\n",
              "      <td>0.0</td>\n",
              "    </tr>\n",
              "    <tr>\n",
              "      <th>4</th>\n",
              "      <td>1.690682</td>\n",
              "      <td>-0.521923</td>\n",
              "      <td>1.0</td>\n",
              "    </tr>\n",
              "  </tbody>\n",
              "</table>\n",
              "</div>"
            ],
            "text/plain": [
              "       col1       col2  col3\n",
              "0 -4.072524  -9.577501   0.0\n",
              "1 -3.591656  -4.651351   2.0\n",
              "2 -1.621404 -10.069722   0.0\n",
              "3 -2.352587  -9.027460   0.0\n",
              "4  1.690682  -0.521923   1.0"
            ]
          },
          "execution_count": 70,
          "metadata": {},
          "output_type": "execute_result"
        }
      ],
      "source": [
        "df_train.head()  # sanity check"
      ]
    },
    {
      "cell_type": "code",
      "execution_count": 71,
      "metadata": {},
      "outputs": [
        {
          "data": {
            "text/html": [
              "<div>\n",
              "<style scoped>\n",
              "    .dataframe tbody tr th:only-of-type {\n",
              "        vertical-align: middle;\n",
              "    }\n",
              "\n",
              "    .dataframe tbody tr th {\n",
              "        vertical-align: top;\n",
              "    }\n",
              "\n",
              "    .dataframe thead th {\n",
              "        text-align: right;\n",
              "    }\n",
              "</style>\n",
              "<table border=\"1\" class=\"dataframe\">\n",
              "  <thead>\n",
              "    <tr style=\"text-align: right;\">\n",
              "      <th></th>\n",
              "      <th>col1</th>\n",
              "      <th>col2</th>\n",
              "      <th>col3</th>\n",
              "    </tr>\n",
              "  </thead>\n",
              "  <tbody>\n",
              "    <tr>\n",
              "      <th>0</th>\n",
              "      <td>-0.577060</td>\n",
              "      <td>-9.426309</td>\n",
              "      <td>0.0</td>\n",
              "    </tr>\n",
              "    <tr>\n",
              "      <th>1</th>\n",
              "      <td>-2.289926</td>\n",
              "      <td>-9.661375</td>\n",
              "      <td>0.0</td>\n",
              "    </tr>\n",
              "    <tr>\n",
              "      <th>2</th>\n",
              "      <td>-1.724228</td>\n",
              "      <td>-3.966204</td>\n",
              "      <td>2.0</td>\n",
              "    </tr>\n",
              "    <tr>\n",
              "      <th>3</th>\n",
              "      <td>-4.080085</td>\n",
              "      <td>-9.351840</td>\n",
              "      <td>0.0</td>\n",
              "    </tr>\n",
              "    <tr>\n",
              "      <th>4</th>\n",
              "      <td>2.143670</td>\n",
              "      <td>-1.731809</td>\n",
              "      <td>1.0</td>\n",
              "    </tr>\n",
              "  </tbody>\n",
              "</table>\n",
              "</div>"
            ],
            "text/plain": [
              "       col1      col2  col3\n",
              "0 -0.577060 -9.426309   0.0\n",
              "1 -2.289926 -9.661375   0.0\n",
              "2 -1.724228 -3.966204   2.0\n",
              "3 -4.080085 -9.351840   0.0\n",
              "4  2.143670 -1.731809   1.0"
            ]
          },
          "execution_count": 71,
          "metadata": {},
          "output_type": "execute_result"
        }
      ],
      "source": [
        "df_test.head()  # sanity check"
      ]
    },
    {
      "cell_type": "code",
      "execution_count": 72,
      "metadata": {
        "id": "iRi0d5C-nIAP"
      },
      "outputs": [],
      "source": [
        "x_train = df_train[[\"col1\", \"col2\"]].astype(np.float32).values\n",
        "y_train = df_train[\"col3\"].astype(np.float32).values\n",
        "x_test = df_test[[\"col1\", \"col2\"]].astype(np.float32).values\n",
        "y_test = df_test[\"col3\"].astype(np.float32).values"
      ]
    },
    {
      "cell_type": "markdown",
      "metadata": {
        "id": "1vXPDs0Yw_5Y"
      },
      "source": [
        "# Question 3 [60 points]: Linear Classifier Implementations "
      ]
    },
    {
      "cell_type": "markdown",
      "metadata": {
        "id": "bQsXPBd9AaZu"
      },
      "source": [
        "a) [35 points: 15 points for each model, 5 points for evaluation] Using the provided dataset in the notebook, implement the perceptron and linear discriminant analysis (LDA) algorithms (use NumPy, Pandas) to classify the dataset. Then, report the accuracy of trained models. "
      ]
    },
    {
      "cell_type": "code",
      "execution_count": 73,
      "metadata": {
        "id": "0h4zNVl1etr_"
      },
      "outputs": [],
      "source": [
        "class Perceptron:\n",
        "  \n",
        "  def __init__ (self):\n",
        "    self.w = None\n",
        "    self.threshold = None\n",
        "    \n",
        "  def model(self, x):\n",
        "    #Return 1 if (w*x) greater than or equal to threshold - Else return 0.\n",
        "    result = np.where(self.w.T @ x >= self.threshold, 1, 0)\n",
        "\n",
        "    return np.squeeze(result)\n",
        "  \n",
        "  def predict(self, X):\n",
        "    #Predict values for the input X using the 'model' function above and store it in Y\n",
        "    Y = self.model(X)\n",
        "    return np.array(Y)\n",
        "    \n",
        "  def fit(self, X, Y, epochs = 1, lr = 1):\n",
        "\n",
        "    self.w = np.zeros(X.shape[1]).reshape(-1, 1)\n",
        "    self.threshold = 0\n",
        "\n",
        "    accuracy = {}\n",
        "    max_accuracy = 0\n",
        "    wt_matrix = []\n",
        "\n",
        "    for i in range(epochs):\n",
        "      for x, y in zip(X, Y):\n",
        "        y_pred = self.predict(x.reshape(-1, 1))\n",
        "\n",
        "        if y == 1 and y_pred == 0:\n",
        "          #Update the w and threshold\n",
        "          self.w = self.w + (lr * x.T.reshape(-1, 1)) * y\n",
        "          # TODO: do I need to update the threshold here also?\n",
        "      \n",
        "        elif y == 0 and y_pred == 1:\n",
        "          # modify this part\n",
        "          self.w = self.w - (lr * x.T.reshape(-1, 1))\n",
        "          \n",
        "      wt_matrix.append(self.w)    \n",
        "      accuracy[i] = accuracy_score(self.predict(X.T), Y)\n",
        "      if (accuracy[i] > max_accuracy):\n",
        "        max_accuracy = accuracy[i]\n",
        "        chkptw = self.w\n",
        "        chkptb = self.threshold\n",
        "    #checkpoint (Save the best weights and b value)\n",
        "    self.w = chkptw.reshape(-1, 1)\n",
        "    self.threshold = chkptb\n",
        "        \n",
        "    print(max_accuracy)\n",
        "    #plot the accuracy values over epochs\n",
        "    plt.plot(accuracy.values())\n",
        "    plt.xlabel(\"Epoch #\")\n",
        "    plt.ylabel(\"Accuracy\")\n",
        "    plt.ylim([0, 1])\n",
        "    plt.show()\n",
        "    \n",
        "    #return the weight matrix, that contains weights over all epochs\n",
        "    return np.array(wt_matrix)\n"
      ]
    },
    {
      "cell_type": "code",
      "execution_count": 74,
      "metadata": {
        "id": "BW0r6-drv7wQ"
      },
      "outputs": [
        {
          "name": "stdout",
          "output_type": "stream",
          "text": [
            "0.668\n"
          ]
        },
        {
          "data": {
            "image/png": "[encoded data removed]",
            "text/plain": [
              "<Figure size 640x480 with 1 Axes>"
            ]
          },
          "metadata": {},
          "output_type": "display_data"
        }
      ],
      "source": [
        "perceptron = Perceptron()\n",
        "scaler = StandardScaler()\n",
        "x_train_scaled = scaler.fit_transform(x_train)\n",
        "wt_matrix = perceptron.fit(x_train_scaled, y_train, 100, 0.001)"
      ]
    },
    {
      "cell_type": "code",
      "execution_count": 76,
      "metadata": {
        "id": "jEZeRESymlK3"
      },
      "outputs": [
        {
          "name": "stdout",
          "output_type": "stream",
          "text": [
            "Test Accuracy: 66.67%.\n"
          ]
        }
      ],
      "source": [
        "#Report the test accuracy for Perceptron. \n",
        "x_test_scaled = scaler.transform(x_test)\n",
        "score = accuracy_score(perceptron.predict(x_test_scaled.T), y_test)\n",
        "print(f\"Test Accuracy: {round(score * 100, 2)}%.\")"
      ]
    },
    {
      "cell_type": "code",
      "execution_count": 61,
      "metadata": {
        "id": "9fBZt-4j_cNb"
      },
      "outputs": [],
      "source": [
        "import numpy as np\n",
        "\n",
        "class LDA:\n",
        "    '''\n",
        "    Closed-form implementaion of linear discriminant analysis.\n",
        "\n",
        "    Credit to the \"Python Engineer\" YouTube Lecture on LDA for explaining the math:\n",
        "    https://www.youtube.com/watch?v=9IDXYHhAfGA\n",
        "    '''\n",
        "    def __init__(self, n_components):\n",
        "        self.n_components = n_components  # after training + projection, this is how many dims we'll have\n",
        "        self.linear_discriminants = None\n",
        "        self.class_centroids = ...  # used for evaluation\n",
        "\n",
        "    def fit(self, X, y):\n",
        "        n_features = X.shape[1]\n",
        "        class_labels = np.unique(y)\n",
        "\n",
        "        mean_overall = np.mean(X, axis=0)\n",
        "        scatter_within_cls = np.zeros((n_features, n_features))\n",
        "        scatter_between_cls = np.zeros((n_features, n_features))\n",
        "        for c in class_labels:\n",
        "            samples_within_class = X[y == c]\n",
        "            mean_class = np.mean(samples_within_class, axis=0)\n",
        "            scatter_within_cls += (\n",
        "                (samples_within_class - mean_class).T.dot((samples_within_class - mean_class))\n",
        "            )\n",
        "            n_c = samples_within_class.shape[0]\n",
        "            mean_diff = (mean_class - mean_overall).reshape(n_features, 1)\n",
        "            scatter_between_cls += n_c * (mean_diff).dot(mean_diff.T)\n",
        "\n",
        "        # Determine scatter_within_cls^-1 * scatter_between_cls\n",
        "        A = np.linalg.inv(scatter_within_cls).dot(scatter_between_cls)\n",
        "        # Eigendecomposition of scatter_within_cls^-1 * scatter_between_cls\n",
        "        eigenvalues, eigenvectors = np.linalg.eig(A)\n",
        "        # sort eigenvalues high to low\n",
        "        eigenvectors = eigenvectors.T  # transpose used for easier calculations\n",
        "        idxs = np.argsort(abs(eigenvalues))[::-1]\n",
        "        eigenvalues = eigenvalues[idxs]\n",
        "        eigenvectors = eigenvectors[idxs] # eigenvector v = [:,i] column vector, \n",
        "        # maximize separability - store first n eigenvectors\n",
        "        self.linear_discriminants = eigenvectors[:self.n_components]\n",
        "\n",
        "    def transform(self, X):\n",
        "        # project the data\n",
        "        return np.dot(X, self.linear_discriminants.T)\n",
        "\n",
        "    def evaluate(self, X, y):\n",
        "        \"\"\"\n",
        "        Given a set of test data, output labels.\n",
        "        To do this, we rely on the Euclidean distance of the\n",
        "        transformed points to the nearest \"centroid\" point for all \n",
        "        the classes found (in the set of said transformed points).\n",
        "\n",
        "        Assumes the labels in y are 0-indexed sparse ints.\n",
        "        \"\"\"\n",
        "        # transform all the test data\n",
        "        X_transformed = self.transform(X)\n",
        "        # determine what the centroids will be\n",
        "        centroids, class_labels = dict(), np.unique(y)\n",
        "        for c in class_labels:\n",
        "            samples_within_class = X_transformed[y == c]\n",
        "            mean_class = np.mean(samples_within_class, axis=0)\n",
        "            centroids[c] = mean_class\n",
        "        # predict the class labels\n",
        "        labels = list()\n",
        "        centroid_pts = np.array(list(centroids.values()))\n",
        "        for transformed_pt in X_transformed:\n",
        "            centroid_assignment_index = np.argmin([\n",
        "                np.linalg.norm(transformed_pt - centroid_pts, axis=1)  # Euclidean distance\n",
        "            ])\n",
        "            labels.append(class_labels[centroid_assignment_index])\n",
        "        return labels\n"
      ]
    },
    {
      "cell_type": "markdown",
      "metadata": {
        "id": "_0_KEhM-x0xC"
      },
      "source": [
        "b)\t[5 points] Use the provided test dataset, general and evaluate the models. "
      ]
    },
    {
      "cell_type": "code",
      "execution_count": 77,
      "metadata": {},
      "outputs": [
        {
          "name": "stdout",
          "output_type": "stream",
          "text": [
            "0.668\n"
          ]
        },
        {
          "data": {
            "image/png": "[encoded data removed]",
            "text/plain": [
              "<Figure size 640x480 with 1 Axes>"
            ]
          },
          "metadata": {},
          "output_type": "display_data"
        }
      ],
      "source": [
        "# Custom Perceptron - uses SGD\n",
        "my_perceptron = Perceptron()\n",
        "my_perceptron.fit(x_train_scaled, y_train, 100, 0.001)\n",
        "my_perceptron_acc = accuracy_score(my_perceptron.predict(x_test_scaled.T), y_test)"
      ]
    },
    {
      "cell_type": "code",
      "execution_count": 79,
      "metadata": {},
      "outputs": [
        {
          "name": "stdout",
          "output_type": "stream",
          "text": [
            "LDA accuracy: 93.7%\n"
          ]
        },
        {
          "data": {
            "image/png": "[encoded data removed]",
            "text/plain": [
              "<Figure size 640x480 with 1 Axes>"
            ]
          },
          "metadata": {},
          "output_type": "display_data"
        }
      ],
      "source": [
        "# Custom LDA model - closed form approach\n",
        "my_lda = LDA(2)\n",
        "my_lda.fit(x_train, y_train)\n",
        "lds = my_lda.transform(x_test)\n",
        "\n",
        "x1, x2 = lds[:, 0], lds[:, 1]\n",
        "\n",
        "plt.scatter(\n",
        "    x1, x2, c=y_test, edgecolor=\"none\", alpha=0.8, cmap=plt.cm.get_cmap(\"viridis\", 3)\n",
        ")\n",
        "plt.title(\"Visual Evaluation of LDA on 3 Classes\")\n",
        "my_lda_acc = accuracy_score(my_lda.evaluate(x_test, y_test), y_test)\n",
        "print(f\"LDA accuracy: {100 * round(my_lda_acc, 3)}%\")"
      ]
    },
    {
      "cell_type": "markdown",
      "metadata": {
        "id": "4VaEQa-xAHJW"
      },
      "source": [
        "c)\t[15 pts] Implement models (perceptron, LDA, and logistic regression) using Scikit-learn. "
      ]
    },
    {
      "cell_type": "code",
      "execution_count": 83,
      "metadata": {},
      "outputs": [
        {
          "name": "stdout",
          "output_type": "stream",
          "text": [
            "Perceptron accuracy: 81.0%\n"
          ]
        }
      ],
      "source": [
        "from sklearn.linear_model import Perceptron as SKPerceptron\n",
        "\n",
        "perceptron_sklearn = SKPerceptron(max_iter=100, random_state=0)\n",
        "perceptron_sklearn.fit(x_train_scaled, y_train)\n",
        "perceptron_acc = perceptron_sklearn.score(x_test_scaled, y_test)\n",
        "print(f\"Perceptron accuracy: {100 * round(perceptron_acc, 3)}%\")"
      ]
    },
    {
      "cell_type": "code",
      "execution_count": 85,
      "metadata": {},
      "outputs": [
        {
          "name": "stdout",
          "output_type": "stream",
          "text": [
            "LDA accuracy: 93.7%\n"
          ]
        }
      ],
      "source": [
        "from sklearn.discriminant_analysis import LinearDiscriminantAnalysis as SKLinDA\n",
        "\n",
        "lda = SKLinDA(n_components=2)\n",
        "lda.fit(x_train_scaled, y_train)\n",
        "lda_acc = lda.score(x_test_scaled, y_test)\n",
        "print(f\"LDA accuracy: {100 * round(lda_acc, 3)}%\")"
      ]
    },
    {
      "cell_type": "code",
      "execution_count": 88,
      "metadata": {},
      "outputs": [
        {
          "name": "stdout",
          "output_type": "stream",
          "text": [
            "Logistic Regression accuracy: 92.10000000000001%\n"
          ]
        }
      ],
      "source": [
        "from sklearn.linear_model import LogisticRegression\n",
        "\n",
        "log_reg = LogisticRegression(random_state=0)\n",
        "log_reg.fit(x_train_scaled, y_train)\n",
        "log_reg_acc = log_reg.score(x_test_scaled, y_test)\n",
        "print(f\"Logistic Regression accuracy: {100 * round(log_reg_acc, 3)}%\")"
      ]
    },
    {
      "cell_type": "markdown",
      "metadata": {
        "id": "OM_zSDkSAO_n"
      },
      "source": [
        "d)\t[5 points] Compare the weights obtained and the accuracies of trained models. Did you expect weights to be the same? Explain why or why not? "
      ]
    },
    {
      "cell_type": "code",
      "execution_count": 95,
      "metadata": {},
      "outputs": [
        {
          "name": "stdout",
          "output_type": "stream",
          "text": [
            "====== LDA Report ========\n",
            "Custom LDA: \n",
            "\t - (accuracy): 93.7%\n",
            "\t - (weights): [[-0.2451322  -0.96948966]\n",
            " [-0.97875977  0.20501053]]\n",
            "Sklearn LDA: \n",
            "\t - (accuracy): 93.7%\n",
            "\t - (weights): [[ -1.14282633 -14.84734219]\n",
            " [  2.14007624  10.94902853]\n",
            " [ -0.98348092   4.0771973 ]]\n",
            "====== Perceptron Report ========\n",
            "Custom Perceptron: \n",
            "\t - (accuracy): 66.7%\n",
            "\t - (weights): [[0.00043479]\n",
            " [0.00235844]]\n",
            "Sklearn Perceptron: \n",
            "\t - (accuracy): 81.0%\n",
            "\t - (weights): [[ 0.50808543 -2.66590291]\n",
            " [ 2.49583924  5.49095953]\n",
            " [-1.96812744  1.55506819]]\n",
            "====== Logistic Regression Report ========\n",
            "Sklearn LogReg: \n",
            "\t - (accuracy): 92.10000000000001%\n",
            "\t - (weights): [[-0.57434921 -4.00098888]\n",
            " [ 1.58302376  3.56062319]\n",
            " [-1.00867455  0.44036568]]\n"
          ]
        }
      ],
      "source": [
        "print(\"====== LDA Report ========\")\n",
        "print(f\"Custom LDA: \\n\\t - (accuracy): {100 * round(my_lda_acc, 3)}%\")\n",
        "print(f\"\\t - (weights): {my_lda.linear_discriminants}\")\n",
        "print(f\"Sklearn LDA: \\n\\t - (accuracy): {100 * round(lda_acc, 3)}%\")\n",
        "print(f\"\\t - (weights): {lda.coef_}\")\n",
        "print(\"====== Perceptron Report ========\")\n",
        "print(f\"Custom Perceptron: \\n\\t - (accuracy): {100 * round(my_perceptron_acc, 3)}%\")\n",
        "print(f\"\\t - (weights): {my_perceptron.w}\")\n",
        "print(f\"Sklearn Perceptron: \\n\\t - (accuracy): {100 * round(perceptron_acc, 3)}%\")\n",
        "print(f\"\\t - (weights): {perceptron_sklearn.coef_}\")\n",
        "print(\"====== Logistic Regression Report ========\")\n",
        "print(f\"Sklearn LogReg: \\n\\t - (accuracy): {100 * round(log_reg_acc, 3)}%\")\n",
        "print(f\"\\t - (weights): {log_reg.coef_}\")\n"
      ]
    },
    {
      "cell_type": "markdown",
      "metadata": {},
      "source": [
        "*LDA*:\n",
        "As the reports above show, both the custom and `sklearn` implementations of LDA achieved ~93% accuracy. However they have different weights. This could be explained by our approach relying upon eigen decomposition while `sklearn` used SVD by default (albeit I'm not totally aware of the underlying details that affect the shape of the final model weights). Nonetheless, they are still both closed-form solutions so it makes sense that the final accuracy was the same.\n",
        "\n",
        "*Perceptron*:\n",
        "As the reports above show, the Sklearn implementation of the perceptron achieved a significantly higher accuracy (~81%) than our own (~66.7%). \n",
        "This could be due to simplicity of our class - for example, our implementation leaves out a bias term, l1 and l2 regularization, and there was no `if/elif` block to update the weights in case we mislabelled a sample from thr `2` class. In light of this, it seems reasonable that the Sklearn has more parameters - its implementation means that its decision boundary is parametrized to classify all 3 classes.\n",
        "\n",
        "*Logistic Regression*:\n",
        "This model had the 2nd highest accuracy 92% behind LDA. There is no custom implementation to compare to. I did not expect its weights to be the same as the other models, since it relies upon a maximum likelihood function, rather than the LDA and perceptron which depend on a more straightforward linear function.\n",
        "\n"
      ]
    },
    {
      "cell_type": "markdown",
      "metadata": {
        "id": "RGT5ZEEPF35V"
      },
      "source": [
        "# Question 4 [20 points]: Linear Regression and regularization\n",
        "\n",
        "Suppose we decided to reject the linear model for the housing dataset discussed in linear regression lecture (the second model with all features after the preprocessing). Then, we are going to implement a new model that is less complex (lower number of features) and outperform (lower RMSE). "
      ]
    },
    {
      "cell_type": "markdown",
      "metadata": {},
      "source": [
        "a)\t[10 points] Retrain the dataset. In the new trained dataset, same feature engineering for the continuous features is not allowed while the discrete features may be used as they are. For each process, explain explicitly the reason of work. "
      ]
    },
    {
      "cell_type": "code",
      "execution_count": null,
      "metadata": {},
      "outputs": [],
      "source": []
    },
    {
      "cell_type": "markdown",
      "metadata": {},
      "source": [
        "b)\t[10 points] Suppose the worst scenario is when the RMSE of new model is higher but within 5% with the same number of features that the original model had. Train five different models (with or without regularizations) and report the results. Select the best model among five models and explain why. "
      ]
    },
    {
      "cell_type": "code",
      "execution_count": null,
      "metadata": {},
      "outputs": [],
      "source": []
    }
  ],
  "metadata": {
    "colab": {
      "collapsed_sections": [],
      "provenance": []
    },
    "kernelspec": {
      "display_name": "Python 3.10.4 ('559')",
      "language": "python",
      "name": "python3"
    },
    "language_info": {
      "codemirror_mode": {
        "name": "ipython",
        "version": 3
      },
      "file_extension": ".py",
      "mimetype": "text/x-python",
      "name": "python",
      "nbconvert_exporter": "python",
      "pygments_lexer": "ipython3",
      "version": "3.10.4"
    },
    "vscode": {
      "interpreter": {
        "hash": "814950ec8b8c7032d23fac38b059fcb51ad391395255f22f9a4e55af65449f0a"
      }
    }
  },
  "nbformat": 4,
  "nbformat_minor": 0
}
