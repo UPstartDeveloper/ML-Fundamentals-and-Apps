{
  "cells": [
    {
      "cell_type": "code",
      "execution_count": 1,
      "metadata": {
        "id": "w2eeGms1rLfU"
      },
      "outputs": [],
      "source": [
        "import numpy as np\n",
        "import matplotlib.pyplot as plt\n",
        "from sklearn.metrics import accuracy_score\n",
        "from sklearn import datasets\n",
        "import pandas as pd"
      ]
    },
    {
      "cell_type": "markdown",
      "metadata": {},
      "source": [
        "# Load the train and test data"
      ]
    },
    {
      "cell_type": "code",
      "execution_count": 10,
      "metadata": {},
      "outputs": [],
      "source": [
        "df_train = pd.read_csv(\"train_data.txt\", sep=\" \", names=[\"col1\", \"col2\", \"col3\"])\n",
        "df_test = pd.read_csv(\"test_data.txt\", sep=\" \", names=[\"col1\", \"col2\", \"col3\"])"
      ]
    },
    {
      "cell_type": "code",
      "execution_count": 13,
      "metadata": {},
      "outputs": [
        {
          "data": {
            "text/html": [
              "<div>\n",
              "<style scoped>\n",
              "    .dataframe tbody tr th:only-of-type {\n",
              "        vertical-align: middle;\n",
              "    }\n",
              "\n",
              "    .dataframe tbody tr th {\n",
              "        vertical-align: top;\n",
              "    }\n",
              "\n",
              "    .dataframe thead th {\n",
              "        text-align: right;\n",
              "    }\n",
              "</style>\n",
              "<table border=\"1\" class=\"dataframe\">\n",
              "  <thead>\n",
              "    <tr style=\"text-align: right;\">\n",
              "      <th></th>\n",
              "      <th>col1</th>\n",
              "      <th>col2</th>\n",
              "      <th>col3</th>\n",
              "    </tr>\n",
              "  </thead>\n",
              "  <tbody>\n",
              "    <tr>\n",
              "      <th>0</th>\n",
              "      <td>-4.072524</td>\n",
              "      <td>-9.577501</td>\n",
              "      <td>0.0</td>\n",
              "    </tr>\n",
              "    <tr>\n",
              "      <th>1</th>\n",
              "      <td>-3.591656</td>\n",
              "      <td>-4.651351</td>\n",
              "      <td>2.0</td>\n",
              "    </tr>\n",
              "    <tr>\n",
              "      <th>2</th>\n",
              "      <td>-1.621404</td>\n",
              "      <td>-10.069722</td>\n",
              "      <td>0.0</td>\n",
              "    </tr>\n",
              "    <tr>\n",
              "      <th>3</th>\n",
              "      <td>-2.352587</td>\n",
              "      <td>-9.027460</td>\n",
              "      <td>0.0</td>\n",
              "    </tr>\n",
              "    <tr>\n",
              "      <th>4</th>\n",
              "      <td>1.690682</td>\n",
              "      <td>-0.521923</td>\n",
              "      <td>1.0</td>\n",
              "    </tr>\n",
              "  </tbody>\n",
              "</table>\n",
              "</div>"
            ],
            "text/plain": [
              "       col1       col2  col3\n",
              "0 -4.072524  -9.577501   0.0\n",
              "1 -3.591656  -4.651351   2.0\n",
              "2 -1.621404 -10.069722   0.0\n",
              "3 -2.352587  -9.027460   0.0\n",
              "4  1.690682  -0.521923   1.0"
            ]
          },
          "execution_count": 13,
          "metadata": {},
          "output_type": "execute_result"
        }
      ],
      "source": [
        "df_train.head()  # sanity check"
      ]
    },
    {
      "cell_type": "code",
      "execution_count": 14,
      "metadata": {},
      "outputs": [
        {
          "data": {
            "text/html": [
              "<div>\n",
              "<style scoped>\n",
              "    .dataframe tbody tr th:only-of-type {\n",
              "        vertical-align: middle;\n",
              "    }\n",
              "\n",
              "    .dataframe tbody tr th {\n",
              "        vertical-align: top;\n",
              "    }\n",
              "\n",
              "    .dataframe thead th {\n",
              "        text-align: right;\n",
              "    }\n",
              "</style>\n",
              "<table border=\"1\" class=\"dataframe\">\n",
              "  <thead>\n",
              "    <tr style=\"text-align: right;\">\n",
              "      <th></th>\n",
              "      <th>col1</th>\n",
              "      <th>col2</th>\n",
              "      <th>col3</th>\n",
              "    </tr>\n",
              "  </thead>\n",
              "  <tbody>\n",
              "    <tr>\n",
              "      <th>0</th>\n",
              "      <td>-0.577060</td>\n",
              "      <td>-9.426309</td>\n",
              "      <td>0.0</td>\n",
              "    </tr>\n",
              "    <tr>\n",
              "      <th>1</th>\n",
              "      <td>-2.289926</td>\n",
              "      <td>-9.661375</td>\n",
              "      <td>0.0</td>\n",
              "    </tr>\n",
              "    <tr>\n",
              "      <th>2</th>\n",
              "      <td>-1.724228</td>\n",
              "      <td>-3.966204</td>\n",
              "      <td>2.0</td>\n",
              "    </tr>\n",
              "    <tr>\n",
              "      <th>3</th>\n",
              "      <td>-4.080085</td>\n",
              "      <td>-9.351840</td>\n",
              "      <td>0.0</td>\n",
              "    </tr>\n",
              "    <tr>\n",
              "      <th>4</th>\n",
              "      <td>2.143670</td>\n",
              "      <td>-1.731809</td>\n",
              "      <td>1.0</td>\n",
              "    </tr>\n",
              "  </tbody>\n",
              "</table>\n",
              "</div>"
            ],
            "text/plain": [
              "       col1      col2  col3\n",
              "0 -0.577060 -9.426309   0.0\n",
              "1 -2.289926 -9.661375   0.0\n",
              "2 -1.724228 -3.966204   2.0\n",
              "3 -4.080085 -9.351840   0.0\n",
              "4  2.143670 -1.731809   1.0"
            ]
          },
          "execution_count": 14,
          "metadata": {},
          "output_type": "execute_result"
        }
      ],
      "source": [
        "df_test.head()  # sanity check"
      ]
    },
    {
      "cell_type": "code",
      "execution_count": 32,
      "metadata": {
        "id": "iRi0d5C-nIAP"
      },
      "outputs": [],
      "source": [
        "x_train = df_train[[\"col1\", \"col2\"]].astype(np.float32).values\n",
        "y_train = df_train[\"col3\"].astype(np.float32).values\n",
        "x_test = df_test[[\"col1\", \"col2\"]].astype(np.float32).values\n",
        "y_test = df_test[\"col3\"].astype(np.float32).values"
      ]
    },
    {
      "cell_type": "markdown",
      "metadata": {
        "id": "1vXPDs0Yw_5Y"
      },
      "source": [
        "# Question 3 [60 points]: Linear Classifier Implementations "
      ]
    },
    {
      "cell_type": "markdown",
      "metadata": {
        "id": "bQsXPBd9AaZu"
      },
      "source": [
        "a) [35 points: 15 points for each model, 5 points for evaluation] Using the provided dataset in the notebook, implement the perceptron and linear discriminant analysis (LDA) algorithms (use NumPy, Pandas) to classify the dataset. Then, report the accuracy of trained models. "
      ]
    },
    {
      "cell_type": "code",
      "execution_count": 102,
      "metadata": {
        "id": "0h4zNVl1etr_"
      },
      "outputs": [],
      "source": [
        "class Perceptron:\n",
        "  \n",
        "  def __init__ (self):\n",
        "    self.w = None\n",
        "    self.threshold = None\n",
        "    \n",
        "  def model(self, x):\n",
        "    #Return 1 if (w*x) greater than or equal to threshold - Else return 0.\n",
        "    result = np.where(self.w.T @ x >= self.threshold, 1, 0)\n",
        "\n",
        "    return np.squeeze(result)\n",
        "  \n",
        "  def predict(self, X):\n",
        "    #Predict values for the input X using the 'model' function above and store it in Y\n",
        "    Y = self.model(X)\n",
        "    return np.array(Y)\n",
        "    \n",
        "  def fit(self, X, Y, epochs = 1, lr = 1):\n",
        "\n",
        "    self.w = np.zeros(X.shape[1]).reshape(-1, 1)\n",
        "    self.threshold = 1\n",
        "\n",
        "    accuracy = {}\n",
        "    max_accuracy = 0\n",
        "    wt_matrix = []\n",
        "\n",
        "    for i in range(epochs):\n",
        "      for x, y in zip(X, Y):\n",
        "        y_pred = self.predict(x.reshape(-1, 1))\n",
        "\n",
        "        if y == 1 and y_pred == 0:\n",
        "          #Update the w and threshold\n",
        "          self.w = self.w + (lr * x.T.reshape(-1, 1)) * y\n",
        "          # TODO: update threshold?\n",
        "      \n",
        "        elif y == 0 and y_pred == 1:\n",
        "          # modify this part\n",
        "          self.w = self.w - (lr * x.T.reshape(-1, 1))\n",
        "       \n",
        "          \n",
        "      wt_matrix.append(self.w)    \n",
        "      accuracy[i] = accuracy_score(self.predict(X.T), Y)\n",
        "      if (accuracy[i] > max_accuracy):\n",
        "        max_accuracy = accuracy[i]\n",
        "        chkptw = self.w\n",
        "        chkptb = self.threshold\n",
        "    #checkpoint (Save the best weights and b value)\n",
        "    self.w = chkptw.reshape(-1, 1)\n",
        "    self.threshold = chkptb\n",
        "        \n",
        "    print(max_accuracy)\n",
        "    #plot the accuracy values over epochs\n",
        "    plt.plot(accuracy.values())\n",
        "    plt.xlabel(\"Epoch #\")\n",
        "    plt.ylabel(\"Accuracy\")\n",
        "    plt.ylim([0, 1])\n",
        "    plt.show()\n",
        "    \n",
        "    #return the weight matrix, that contains weights over all epochs\n",
        "    return np.array(wt_matrix)\n"
      ]
    },
    {
      "cell_type": "code",
      "execution_count": 103,
      "metadata": {
        "id": "BW0r6-drv7wQ"
      },
      "outputs": [
        {
          "name": "stdout",
          "output_type": "stream",
          "text": [
            "0.456\n"
          ]
        },
        {
          "data": {
            "image/png": "[encoded data removed]",
            "text/plain": [
              "<Figure size 640x480 with 1 Axes>"
            ]
          },
          "metadata": {},
          "output_type": "display_data"
        }
      ],
      "source": [
        "perceptron = Perceptron()\n",
        "\n",
        "wt_matrix = perceptron.fit(x_train, y_train, 100, 0.001)"
      ]
    },
    {
      "cell_type": "code",
      "execution_count": 107,
      "metadata": {
        "id": "jEZeRESymlK3"
      },
      "outputs": [
        {
          "name": "stdout",
          "output_type": "stream",
          "text": [
            "Test Accuracy: 44.44%.\n"
          ]
        }
      ],
      "source": [
        "#Report the test accuracy for Perceptron. \n",
        "score = accuracy_score(perceptron.predict(x_test.T), y_test)\n",
        "print(f\"Test Accuracy: {round(score * 100, 2)}%.\")"
      ]
    },
    {
      "cell_type": "code",
      "execution_count": null,
      "metadata": {
        "id": "9fBZt-4j_cNb"
      },
      "outputs": [],
      "source": [
        "import numpy as np\n",
        "\n",
        "class LDA:\n",
        "\n",
        "    def __init__(self, n_components):\n",
        "        self.n_components = n_components\n",
        "        self.linear_discriminants = None\n",
        "\n",
        "    def fit(self, X, y):\n",
        "  \n",
        "\n",
        "    def transform(self, X):\n",
        "        # project data"
      ]
    },
    {
      "cell_type": "markdown",
      "metadata": {
        "id": "_0_KEhM-x0xC"
      },
      "source": [
        "b)\t[5 points] Use the provided test dataset, general and evaluate the models. "
      ]
    },
    {
      "cell_type": "markdown",
      "metadata": {
        "id": "4VaEQa-xAHJW"
      },
      "source": [
        "c)\t[15 pts] Implement models (perceptron, LDA, and logistic regression) using Scikit-learn. "
      ]
    },
    {
      "cell_type": "markdown",
      "metadata": {
        "id": "OM_zSDkSAO_n"
      },
      "source": [
        "d)\t[5 points] Compare the weights obtained and the accuracies of trained models. Did you expect weights to be the same? Explain why or why not? "
      ]
    },
    {
      "cell_type": "markdown",
      "metadata": {
        "id": "RGT5ZEEPF35V"
      },
      "source": [
        "# Question 4 [20 points]: Linear Regression and regularization\n",
        "\n",
        "Suppose we decided to reject the linear model for the housing dataset discussed in linear regression lecture (the second model with all features after the preprocessing). Then, we are going to implement a new model that is less complex (lower number of features) and outperform (lower RMSE). "
      ]
    },
    {
      "cell_type": "markdown",
      "metadata": {},
      "source": [
        "a)\t[10 points] Retrain the dataset. In the new trained dataset, same feature engineering for the continuous features is not allowed while the discrete features may be used as they are. For each process, explain explicitly the reason of work. "
      ]
    },
    {
      "cell_type": "code",
      "execution_count": null,
      "metadata": {},
      "outputs": [],
      "source": []
    },
    {
      "cell_type": "markdown",
      "metadata": {},
      "source": [
        "b)\t[10 points] Suppose the worst scenario is when the RMSE of new model is higher but within 5% with the same number of features that the original model had. Train five different models (with or without regularizations) and report the results. Select the best model among five models and explain why. "
      ]
    },
    {
      "cell_type": "code",
      "execution_count": null,
      "metadata": {},
      "outputs": [],
      "source": []
    }
  ],
  "metadata": {
    "colab": {
      "collapsed_sections": [],
      "provenance": []
    },
    "kernelspec": {
      "display_name": "Python 3.10.4 ('559')",
      "language": "python",
      "name": "python3"
    },
    "language_info": {
      "codemirror_mode": {
        "name": "ipython",
        "version": 3
      },
      "file_extension": ".py",
      "mimetype": "text/x-python",
      "name": "python",
      "nbconvert_exporter": "python",
      "pygments_lexer": "ipython3",
      "version": "3.10.4"
    },
    "vscode": {
      "interpreter": {
        "hash": "814950ec8b8c7032d23fac38b059fcb51ad391395255f22f9a4e55af65449f0a"
      }
    }
  },
  "nbformat": 4,
  "nbformat_minor": 0
}
