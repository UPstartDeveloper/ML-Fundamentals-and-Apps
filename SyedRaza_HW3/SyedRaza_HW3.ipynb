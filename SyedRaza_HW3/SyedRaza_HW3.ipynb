{
 "cells": [
  {
   "cell_type": "markdown",
   "metadata": {},
   "source": [
    "# Imports"
   ]
  },
  {
   "cell_type": "code",
   "execution_count": 240,
   "metadata": {},
   "outputs": [],
   "source": [
    "import math\n",
    "\n",
    "import matplotlib.pyplot as plt\n",
    "import seaborn as sns\n",
    "from sklearn.metrics import accuracy_score\n",
    "from sklearn.model_selection import train_test_split\n",
    "from sklearn.preprocessing import StandardScaler\n",
    "import numpy as np\n",
    "from numpy.random import default_rng\n",
    "import pandas as pd\n",
    "from sklearn.metrics import accuracy_score\n",
    "from sklearn.model_selection import train_test_split\n",
    "from sklearn.preprocessing import StandardScaler\n",
    "\n",
    "%matplotlib inline\n",
    "rng = default_rng()"
   ]
  },
  {
   "cell_type": "markdown",
   "metadata": {},
   "source": [
    "# Question 3: Neural Networks"
   ]
  },
  {
   "cell_type": "markdown",
   "metadata": {},
   "source": [
    "## Part A: Custom Implementation\n",
    "\n",
    "Let's begin with the dataset given in the PDF:"
   ]
  },
  {
   "cell_type": "code",
   "execution_count": 2,
   "metadata": {},
   "outputs": [
    {
     "data": {
      "text/html": [
       "<div>\n",
       "<style scoped>\n",
       "    .dataframe tbody tr th:only-of-type {\n",
       "        vertical-align: middle;\n",
       "    }\n",
       "\n",
       "    .dataframe tbody tr th {\n",
       "        vertical-align: top;\n",
       "    }\n",
       "\n",
       "    .dataframe thead th {\n",
       "        text-align: right;\n",
       "    }\n",
       "</style>\n",
       "<table border=\"1\" class=\"dataframe\">\n",
       "  <thead>\n",
       "    <tr style=\"text-align: right;\">\n",
       "      <th></th>\n",
       "      <th>x1</th>\n",
       "      <th>x2</th>\n",
       "      <th>y_true</th>\n",
       "    </tr>\n",
       "  </thead>\n",
       "  <tbody>\n",
       "    <tr>\n",
       "      <th>0</th>\n",
       "      <td>4.0</td>\n",
       "      <td>2.9</td>\n",
       "      <td>1</td>\n",
       "    </tr>\n",
       "    <tr>\n",
       "      <th>1</th>\n",
       "      <td>4.0</td>\n",
       "      <td>4.0</td>\n",
       "      <td>1</td>\n",
       "    </tr>\n",
       "    <tr>\n",
       "      <th>2</th>\n",
       "      <td>1.0</td>\n",
       "      <td>2.5</td>\n",
       "      <td>-1</td>\n",
       "    </tr>\n",
       "    <tr>\n",
       "      <th>3</th>\n",
       "      <td>2.5</td>\n",
       "      <td>1.0</td>\n",
       "      <td>-1</td>\n",
       "    </tr>\n",
       "    <tr>\n",
       "      <th>4</th>\n",
       "      <td>4.9</td>\n",
       "      <td>4.5</td>\n",
       "      <td>1</td>\n",
       "    </tr>\n",
       "    <tr>\n",
       "      <th>5</th>\n",
       "      <td>1.9</td>\n",
       "      <td>1.9</td>\n",
       "      <td>-1</td>\n",
       "    </tr>\n",
       "    <tr>\n",
       "      <th>6</th>\n",
       "      <td>3.5</td>\n",
       "      <td>4.0</td>\n",
       "      <td>1</td>\n",
       "    </tr>\n",
       "    <tr>\n",
       "      <th>7</th>\n",
       "      <td>0.5</td>\n",
       "      <td>1.5</td>\n",
       "      <td>-1</td>\n",
       "    </tr>\n",
       "    <tr>\n",
       "      <th>8</th>\n",
       "      <td>2.0</td>\n",
       "      <td>2.1</td>\n",
       "      <td>-1</td>\n",
       "    </tr>\n",
       "    <tr>\n",
       "      <th>9</th>\n",
       "      <td>4.5</td>\n",
       "      <td>2.5</td>\n",
       "      <td>1</td>\n",
       "    </tr>\n",
       "  </tbody>\n",
       "</table>\n",
       "</div>"
      ],
      "text/plain": [
       "    x1   x2  y_true\n",
       "0  4.0  2.9       1\n",
       "1  4.0  4.0       1\n",
       "2  1.0  2.5      -1\n",
       "3  2.5  1.0      -1\n",
       "4  4.9  4.5       1\n",
       "5  1.9  1.9      -1\n",
       "6  3.5  4.0       1\n",
       "7  0.5  1.5      -1\n",
       "8  2.0  2.1      -1\n",
       "9  4.5  2.5       1"
      ]
     },
     "execution_count": 2,
     "metadata": {},
     "output_type": "execute_result"
    }
   ],
   "source": [
    "feat1 = np.array([4, 4, 1, 2.5, 4.9, 1.9, 3.5, 0.5, 2, 4.5])\n",
    "feat2 = np.array([2.9, 4, 2.5, 1, 4.5, 1.9, 4, 1.5, 2.1, 2.5])\n",
    "labels = np.array([1, 1, -1, -1, 1, -1, 1, -1, -1, 1])\n",
    "df = pd.DataFrame(data=dict({\n",
    "    \"x1\": feat1,\n",
    "    \"x2\": feat2,\n",
    "    \"y_true\": labels \n",
    "}))\n",
    "df.head(10)"
   ]
  },
  {
   "cell_type": "markdown",
   "metadata": {},
   "source": [
    "Now's the time to make this model:"
   ]
  },
  {
   "cell_type": "code",
   "execution_count": 205,
   "metadata": {},
   "outputs": [],
   "source": [
    "from dataclasses import dataclass\n",
    "\n",
    "\n",
    "def sigmoid(x: np.array) -> np.array:\n",
    "    \"\"\"\n",
    "    Given an array of activation values, we return \n",
    "    an array of probabilities between 0-1. \n",
    "\n",
    "    They will NOT necessarily add up to 1.\n",
    "\n",
    "    This is mainly intended for classification problems.\n",
    "    \"\"\"\n",
    "    return 1.0 / (1.0 + np.exp(-x))\n",
    "\n",
    "\n",
    "@dataclass\n",
    "class BinaryClassificationMLP:\n",
    "    num_layers: int\n",
    "    units_per_layer: np.ndarray\n",
    "    num_features: int = None\n",
    "    threshold: float = 0.5\n",
    "    classes: np.ndarray = np.array([0, 1])\n",
    "\n",
    "    def define_model(self, num_features: int) -> None:\n",
    "        '''Glorot weight initialization'''\n",
    "        self.layers = list()\n",
    "        fan_in = self.num_features\n",
    "        fan_out_index = 0\n",
    "        for layer_index in range(self.num_layers):\n",
    "            # initialize using a randomly sampled uniform distribution\n",
    "            fan_out = self.units_per_layer[fan_out_index]\n",
    "            scale = max(1.0, (fan_in + fan_out) / 2.0)\n",
    "            limit = math.sqrt(3.0 * scale)\n",
    "            layer_weights = rng.uniform(low=-limit, high=limit, size=(fan_in, fan_out))\n",
    "            # biases - initialize to zeros, b/c we don't need to break symmetry (unlike for the weights)\n",
    "            layer_bias = np.zeros((fan_out, 1))\n",
    "            # activation - use tanh for hidden layers, and sigmoid for the last one\n",
    "            activation = np.tanh\n",
    "            if layer_index == self.num_layers - 1:\n",
    "                activation = sigmoid\n",
    "            # add to the list, and prep for next iteration\n",
    "            self.layers.append((layer_weights, layer_bias, activation))\n",
    "            fan_in = fan_out\n",
    "            fan_out_index += 1\n",
    "\n",
    "    def forward(self, X):\n",
    "        current_activation = X\n",
    "        layer_activations = list()\n",
    "        for weight, bias, act_func in self.layers:\n",
    "            layer_summation = current_activation @ weight + bias.T\n",
    "            current_activation = act_func(layer_summation)\n",
    "            layer_activations.append(current_activation)\n",
    "        return layer_activations\n",
    "\n",
    "    def backward(self, X, y, learning_rate, activations):\n",
    "        # variables we're going to need\n",
    "        weights1, bias1, act1 = self.layers[0]\n",
    "        weights2, bias2, act2 = self.layers[1]\n",
    "        per_sample_factor = (1 / X.shape[0])\n",
    "        hidden_layer_activation, output_layer_activations = (\n",
    "            activations[0], activations[1]\n",
    "        )\n",
    "        output_layer_weights = weights2\n",
    "        num_samples = X.shape[0]\n",
    "\n",
    "        # derivatives for the output layer\n",
    "        y_pred = output_layer_activations\n",
    "        y_true = np.where(y == -1, 0, 1).reshape(-1, 1)  # labels should be only 0/1\n",
    "        error = y_pred - y_true\n",
    "        derivative_y_pred = y_pred * (1 - y_pred)\n",
    "        grad_output_layer = error * derivative_y_pred\n",
    "        derivative_output_layer = dW2 = (grad_output_layer.T @ hidden_layer_activation).T\n",
    "        derivative_output_bias = db2 = (1 / num_samples) * np.sum(error, axis=1, keepdims=True)\n",
    "\n",
    "        # update weights in output layer before going fwd\n",
    "        new_output_weights = weights2 - learning_rate * dW2\n",
    "        new_output_bias = bias2 - learning_rate * bias2\n",
    "\n",
    "        # derivatives for the hidden layer\n",
    "        derivative_hidden_activation = z_prime = dZ1 = hidden_layer_activation * (1 - hidden_layer_activation)\n",
    "        grad_hidden_layer = grad_output_layer @ new_output_weights.T * z_prime\n",
    "        derivative_hidden_weights = X.T @ grad_hidden_layer\n",
    "        derivative_hidden_bias = db1 = (1 / num_samples) * np.sum(z_prime, axis=1, keepdims=True)\n",
    "\n",
    "        # update weights in the hidden layer\n",
    "        new_hidden_weights = weights1 - learning_rate * derivative_hidden_weights\n",
    "        new_hidden_bias = bias1 - learning_rate * bias1\n",
    "\n",
    "        # update the state of the model\n",
    "        self.layers[0] = (new_hidden_weights, new_hidden_bias, act1)\n",
    "        self.layers[1] = (new_output_weights, new_output_bias, act2)\n",
    "\n",
    "    def fit(self, X_train: np.array, y_train: np.array,\n",
    "            epochs=1000, learning_rate=0.0001) -> None:\n",
    "\n",
    "        # A: initial state of the network\n",
    "        num_features = X_train.shape[1]\n",
    "        self.define_model(num_features)\n",
    "\n",
    "        layer1, layer2 = self.layers[0], self.layers[1]\n",
    "\n",
    "        # B: training!\n",
    "        for _ in range(epochs):\n",
    "            activations = self.forward(X_train)\n",
    "            self.backward(X_train, y_train, learning_rate, activations)\n",
    "\n",
    "    def predict(self, X) -> np.ndarray:\n",
    "        activations = self.forward(X)\n",
    "        class1, class2 = self.classes\n",
    "        y_pred = np.where(activations[1] >= self.threshold, class2, class1)\n",
    "        return y_pred\n"
   ]
  },
  {
   "cell_type": "markdown",
   "metadata": {},
   "source": [
    "Let's apply this model using our specific hyperparams:"
   ]
  },
  {
   "cell_type": "code",
   "execution_count": 221,
   "metadata": {},
   "outputs": [],
   "source": [
    "num_layers = 2\n",
    "units_per_layer = [5, 1]\n",
    "num_features = 2\n",
    "classes = np.array([-1, 1])\n",
    "custom_mlp = BinaryClassificationMLP(\n",
    "    num_layers, units_per_layer, num_features, classes=classes\n",
    ")"
   ]
  },
  {
   "cell_type": "markdown",
   "metadata": {},
   "source": [
    "Getting the data is half the fun:"
   ]
  },
  {
   "cell_type": "code",
   "execution_count": 222,
   "metadata": {},
   "outputs": [],
   "source": [
    "X, y = df[[\"x1\", \"x2\"]].values, df[\"y_true\"].values\n",
    "X_train, X_test, y_train, y_test = train_test_split(X, y, test_size=0.2, random_state=42)\n",
    "scaler = StandardScaler()\n",
    "X_train_scaled = scaler.fit_transform(X_train)\n",
    "X_test_scaled = scaler.transform(X_test)"
   ]
  },
  {
   "cell_type": "markdown",
   "metadata": {},
   "source": [
    "Training time!"
   ]
  },
  {
   "cell_type": "code",
   "execution_count": 223,
   "metadata": {},
   "outputs": [],
   "source": [
    "custom_mlp.fit(X_train_scaled, y_train, epochs=300)"
   ]
  },
  {
   "cell_type": "code",
   "execution_count": 224,
   "metadata": {},
   "outputs": [
    {
     "name": "stdout",
     "output_type": "stream",
     "text": [
      "Accuracy: 0.0%\n"
     ]
    }
   ],
   "source": [
    "accuracy1 = accuracy_score(y_test, custom_mlp.predict(X_test_scaled))\n",
    "print(f\"Accuracy: {accuracy1 * 100}%\")"
   ]
  },
  {
   "cell_type": "markdown",
   "metadata": {},
   "source": [
    "## Part B: `sklearn` Implementation"
   ]
  },
  {
   "cell_type": "code",
   "execution_count": 225,
   "metadata": {},
   "outputs": [],
   "source": [
    "from sklearn.neural_network import MLPClassifier"
   ]
  },
  {
   "cell_type": "code",
   "execution_count": 227,
   "metadata": {},
   "outputs": [
    {
     "name": "stdout",
     "output_type": "stream",
     "text": [
      "Accuracy: 100.0%\n"
     ]
    },
    {
     "name": "stderr",
     "output_type": "stream",
     "text": [
      "/Applications/anaconda3/envs/559/lib/python3.10/site-packages/sklearn/neural_network/_multilayer_perceptron.py:702: ConvergenceWarning: Stochastic Optimizer: Maximum iterations (300) reached and the optimization hasn't converged yet.\n",
      "  warnings.warn(\n"
     ]
    }
   ],
   "source": [
    "sklearn_mlp = MLPClassifier(random_state=42, max_iter=300).fit(X_train_scaled, y_train)\n",
    "accuracy2 = sklearn_mlp.score(X_test_scaled, y_test)\n",
    "print(f\"Accuracy: {accuracy2 * 100}%\")"
   ]
  },
  {
   "cell_type": "markdown",
   "metadata": {},
   "source": [
    "## Part C: A New Classification"
   ]
  },
  {
   "cell_type": "code",
   "execution_count": 229,
   "metadata": {},
   "outputs": [
    {
     "name": "stdout",
     "output_type": "stream",
     "text": [
      "Prediction from Custom: -1\n",
      "Prediction from Scikit-learn: 1\n"
     ]
    }
   ],
   "source": [
    "X_new = np.array([3, 3]).reshape(1, -1)\n",
    "y_preds = [model.predict(X_new).squeeze() for model in [custom_mlp, sklearn_mlp]]\n",
    "\n",
    "print(f\"Prediction from Custom: {y_preds[0]}\")\n",
    "print(f\"Prediction from Scikit-learn: {y_preds[1]}\")"
   ]
  },
  {
   "cell_type": "markdown",
   "metadata": {},
   "source": [
    "# Question 4: KNN\n",
    "\n",
    "Yeast dataset link: https://archive.ics.uci.edu/ml/datasets/Yeast."
   ]
  },
  {
   "cell_type": "markdown",
   "metadata": {},
   "source": [
    "Part 1:\n",
    "\n",
    "- The task is to predict the compartment in a cell that a yeast protein will localize to base on the properties of its sequence. \n",
    "- **Implement a basic KNN model on the yeast dataset**\n",
    "- (do not use Scikit-learn)."
   ]
  },
  {
   "cell_type": "markdown",
   "metadata": {},
   "source": [
    "Loading data, anyone?\n",
    "Credit to \"[Psidom](https://stackoverflow.com/users/4983450/psidom)\" on [Stack Overflow](https://stackoverflow.com/questions/41025416/read-data-dat-file-with-pandas) for posting the code on how to do this."
   ]
  },
  {
   "cell_type": "code",
   "execution_count": 234,
   "metadata": {},
   "outputs": [
    {
     "data": {
      "text/html": [
       "<div>\n",
       "<style scoped>\n",
       "    .dataframe tbody tr th:only-of-type {\n",
       "        vertical-align: middle;\n",
       "    }\n",
       "\n",
       "    .dataframe tbody tr th {\n",
       "        vertical-align: top;\n",
       "    }\n",
       "\n",
       "    .dataframe thead th {\n",
       "        text-align: right;\n",
       "    }\n",
       "</style>\n",
       "<table border=\"1\" class=\"dataframe\">\n",
       "  <thead>\n",
       "    <tr style=\"text-align: right;\">\n",
       "      <th></th>\n",
       "      <th>Sequence_Name</th>\n",
       "      <th>mcg</th>\n",
       "      <th>gvh</th>\n",
       "      <th>alm</th>\n",
       "      <th>mit</th>\n",
       "      <th>erl</th>\n",
       "      <th>pox</th>\n",
       "      <th>vac</th>\n",
       "      <th>nuc</th>\n",
       "      <th>Localization_Site</th>\n",
       "    </tr>\n",
       "  </thead>\n",
       "  <tbody>\n",
       "    <tr>\n",
       "      <th>0</th>\n",
       "      <td>ADT1_YEAST</td>\n",
       "      <td>0.58</td>\n",
       "      <td>0.61</td>\n",
       "      <td>0.47</td>\n",
       "      <td>0.13</td>\n",
       "      <td>0.5</td>\n",
       "      <td>0.0</td>\n",
       "      <td>0.48</td>\n",
       "      <td>0.22</td>\n",
       "      <td>MIT</td>\n",
       "    </tr>\n",
       "    <tr>\n",
       "      <th>1</th>\n",
       "      <td>ADT2_YEAST</td>\n",
       "      <td>0.43</td>\n",
       "      <td>0.67</td>\n",
       "      <td>0.48</td>\n",
       "      <td>0.27</td>\n",
       "      <td>0.5</td>\n",
       "      <td>0.0</td>\n",
       "      <td>0.53</td>\n",
       "      <td>0.22</td>\n",
       "      <td>MIT</td>\n",
       "    </tr>\n",
       "    <tr>\n",
       "      <th>2</th>\n",
       "      <td>ADT3_YEAST</td>\n",
       "      <td>0.64</td>\n",
       "      <td>0.62</td>\n",
       "      <td>0.49</td>\n",
       "      <td>0.15</td>\n",
       "      <td>0.5</td>\n",
       "      <td>0.0</td>\n",
       "      <td>0.53</td>\n",
       "      <td>0.22</td>\n",
       "      <td>MIT</td>\n",
       "    </tr>\n",
       "    <tr>\n",
       "      <th>3</th>\n",
       "      <td>AAR2_YEAST</td>\n",
       "      <td>0.58</td>\n",
       "      <td>0.44</td>\n",
       "      <td>0.57</td>\n",
       "      <td>0.13</td>\n",
       "      <td>0.5</td>\n",
       "      <td>0.0</td>\n",
       "      <td>0.54</td>\n",
       "      <td>0.22</td>\n",
       "      <td>NUC</td>\n",
       "    </tr>\n",
       "    <tr>\n",
       "      <th>4</th>\n",
       "      <td>AATM_YEAST</td>\n",
       "      <td>0.42</td>\n",
       "      <td>0.44</td>\n",
       "      <td>0.48</td>\n",
       "      <td>0.54</td>\n",
       "      <td>0.5</td>\n",
       "      <td>0.0</td>\n",
       "      <td>0.48</td>\n",
       "      <td>0.22</td>\n",
       "      <td>MIT</td>\n",
       "    </tr>\n",
       "  </tbody>\n",
       "</table>\n",
       "</div>"
      ],
      "text/plain": [
       "  Sequence_Name   mcg   gvh   alm   mit  erl  pox   vac   nuc  \\\n",
       "0    ADT1_YEAST  0.58  0.61  0.47  0.13  0.5  0.0  0.48  0.22   \n",
       "1    ADT2_YEAST  0.43  0.67  0.48  0.27  0.5  0.0  0.53  0.22   \n",
       "2    ADT3_YEAST  0.64  0.62  0.49  0.15  0.5  0.0  0.53  0.22   \n",
       "3    AAR2_YEAST  0.58  0.44  0.57  0.13  0.5  0.0  0.54  0.22   \n",
       "4    AATM_YEAST  0.42  0.44  0.48  0.54  0.5  0.0  0.48  0.22   \n",
       "\n",
       "  Localization_Site  \n",
       "0               MIT  \n",
       "1               MIT  \n",
       "2               MIT  \n",
       "3               NUC  \n",
       "4               MIT  "
      ]
     },
     "execution_count": 234,
     "metadata": {},
     "output_type": "execute_result"
    }
   ],
   "source": [
    "from io import StringIO\n",
    "\n",
    "yeast_df = pd.read_csv(\n",
    "    './yeast_dataset/yeast.data',\n",
    "    sep=\"\\s+\", usecols=list(range(0, 10)),\n",
    "    names=[\n",
    "        'Sequence_Name', 'mcg', 'gvh', 'alm',\n",
    "        'mit', 'erl', 'pox', 'vac', 'nuc', 'Localization_Site'\n",
    "    ],\n",
    ")\n",
    "yeast_df.head()"
   ]
  },
  {
   "cell_type": "markdown",
   "metadata": {},
   "source": [
    "Since KNN is a non-parametric model, I will choose NOT to apply any scaling. But let's still split the data into train/test:"
   ]
  },
  {
   "cell_type": "code",
   "execution_count": 236,
   "metadata": {},
   "outputs": [],
   "source": [
    "feature_cols = ['mcg', 'gvh', 'alm', 'mit', 'erl', 'pox', 'vac', 'nuc']\n",
    "target_col = ['Localization_Site']\n",
    "X, y = yeast_df[feature_cols], yeast_df[target_col]"
   ]
  },
  {
   "cell_type": "code",
   "execution_count": 237,
   "metadata": {},
   "outputs": [],
   "source": [
    "X_train, X_test, y_train, y_test = train_test_split(X, y, test_size=0.2, random_state=42)"
   ]
  },
  {
   "cell_type": "code",
   "execution_count": 251,
   "metadata": {},
   "outputs": [
    {
     "data": {
      "text/plain": [
       "(1187, 8)"
      ]
     },
     "execution_count": 251,
     "metadata": {},
     "output_type": "execute_result"
    }
   ],
   "source": [
    "X_train.shape"
   ]
  },
  {
   "cell_type": "code",
   "execution_count": 252,
   "metadata": {},
   "outputs": [
    {
     "data": {
      "text/plain": [
       "(297, 8)"
      ]
     },
     "execution_count": 252,
     "metadata": {},
     "output_type": "execute_result"
    }
   ],
   "source": [
    "X_test.shape"
   ]
  },
  {
   "cell_type": "markdown",
   "metadata": {},
   "source": [
    "Now let's implement the model:"
   ]
  },
  {
   "cell_type": "code",
   "execution_count": 273,
   "metadata": {},
   "outputs": [],
   "source": [
    "from collections import Counter\n",
    "from typing import AnyStr\n",
    "\n",
    "\n",
    "class KNN:\n",
    "    def __init__(self, k: int, metric='euclidean'):\n",
    "        self.k = k\n",
    "        self.metric = metric\n",
    "\n",
    "    def compute_distances(\n",
    "        self, x_test: np.ndarray, X_train: np.ndarray\n",
    "    ) -> np.ndarray:\n",
    "        \"\"\"\n",
    "        In order to answer part 2, I've included code to compute\n",
    "        the distance using either the Manhattan or Euclidean formulations.\n",
    "        \"\"\"\n",
    "        euclidean_dist = lambda x, y: np.linalg.norm(x - y, axis=1)\n",
    "        manhattan_dist = lambda x, y: np.sum(np.abs(x - y))\n",
    "\n",
    "        if self.metric == 'euclidean':\n",
    "            return euclidean_dist(x_test, X_train)\n",
    "        return manhattan_dist(x_test, X_train)\n",
    "\n",
    "    def most_common_class(self, class_dist: Counter) -> AnyStr:\n",
    "        '''linear search to find the first label w/ the highest frequency'''\n",
    "        most_common_count = max(list(class_dist.values()))\n",
    "        for label, label_occurences in class_dist.items():\n",
    "            if label_occurences == most_common_count:\n",
    "                return label\n",
    "\n",
    "    def fit(self):\n",
    "        raise RuntimeWarning(\"Sorry, calling KNN.fit() doesn't actually do anything.\")\n",
    "\n",
    "    def predict(self, X_train, y_train, X_test):\n",
    "        y_pred = np.zeros(X_test.shape[0], dtype=object)\n",
    "        for test_sample_index in range(X_test.shape[0]):\n",
    "            ix = test_sample_index\n",
    "            # find the dist to all training pts\n",
    "            distances_for_1_test_pt = self.compute_distances(\n",
    "                X_test.values[ix][:].reshape(1, -1), X_train\n",
    "            )\n",
    "            # sort the distances --> choose the closest k\n",
    "            order = np.argsort(distances_for_1_test_pt)\n",
    "            nearest_neighbors = y_train.values[np.argsort(distances_for_1_test_pt)][:self.k]\n",
    "            # assign a class to the test point\n",
    "            nearest_neighbors = np.squeeze(nearest_neighbors).tolist()\n",
    "            y_pred[ix] = self.most_common_class(Counter(nearest_neighbors))\n",
    "\n",
    "        # all done!\n",
    "        return y_pred"
   ]
  },
  {
   "cell_type": "markdown",
   "metadata": {},
   "source": [
    "Part 2 and 3:\n",
    "\n",
    "- To optimize the results, test with Manhattan and Euclidean distance metrics. \n",
    "- Report the model's accuracy for both distance metrics with k values from 5 to 20. \n"
   ]
  },
  {
   "cell_type": "code",
   "execution_count": 274,
   "metadata": {},
   "outputs": [],
   "source": [
    "metrics = ['euclidean', 'manhattan']\n",
    "num_neighbors = list(range(5, 21))\n",
    "\n",
    "manhattan_accuracies = list()\n",
    "euclidean_accuracies = list()\n",
    "\n",
    "for metric in metrics:\n",
    "    for k in num_neighbors:\n",
    "        model = KNN(k, metric)\n",
    "        y_pred = model.predict(X_train, y_train, X_test)\n",
    "        accuracy = accuracy_score(y_test, y_pred)\n",
    "        if metric == 'euclidean':\n",
    "            euclidean_accuracies.append(accuracy)\n",
    "        else:\n",
    "            manhattan_accuracies.append(accuracy)"
   ]
  },
  {
   "cell_type": "markdown",
   "metadata": {},
   "source": [
    "Whew! Now, time to report the accuracies for the models:"
   ]
  },
  {
   "cell_type": "code",
   "execution_count": 285,
   "metadata": {},
   "outputs": [
    {
     "data": {
      "image/png": "[encoded data removed]",
      "text/plain": [
       "<Figure size 640x480 with 1 Axes>"
      ]
     },
     "metadata": {},
     "output_type": "display_data"
    }
   ],
   "source": [
    "plt.bar(num_neighbors, euclidean_accuracies, align=\"edge\", label='Euclidean')\n",
    "plt.bar(num_neighbors, manhattan_accuracies, align=\"edge\", label='Manhattan')\n",
    "plt.ylabel(\"Accuracy\")\n",
    "plt.xlabel(\"Value of k\")\n",
    "plt.title(\"Accuracies of KNN on the Yeast Dataset\")\n",
    "plt.legend()\n",
    "plt.show()"
   ]
  },
  {
   "cell_type": "code",
   "execution_count": 288,
   "metadata": {},
   "outputs": [
    {
     "name": "stdout",
     "output_type": "stream",
     "text": [
      "==== Highest Accuracies for Each ====\n",
      "Euclidean: 63.3%\n",
      "Manhattan: 32.32%\n"
     ]
    }
   ],
   "source": [
    "print(\"==== Highest Accuracies for Each ====\")\n",
    "print(f'Euclidean: {round(np.max(euclidean_accuracies), 4) * 100}%')\n",
    "print(f'Manhattan: {round(np.max(manhattan_accuracies), 4) * 100}%')"
   ]
  },
  {
   "cell_type": "markdown",
   "metadata": {},
   "source": [
    "# Question 5: Gaussian Processes"
   ]
  },
  {
   "cell_type": "markdown",
   "metadata": {},
   "source": [
    "## Part 1\n",
    "\"Construct Scikit-learn Gaussian Process models using basic, RBF, and Matern kernels.\" "
   ]
  },
  {
   "cell_type": "code",
   "execution_count": 376,
   "metadata": {},
   "outputs": [],
   "source": [
    "from sklearn.gaussian_process import GaussianProcessClassifier\n",
    "from sklearn.gaussian_process import kernels\n",
    "from sklearn import metrics, model_selection\n",
    "from sklearn.preprocessing import OneHotEncoder"
   ]
  },
  {
   "cell_type": "code",
   "execution_count": 295,
   "metadata": {},
   "outputs": [
    {
     "data": {
      "text/html": [
       "<div>\n",
       "<style scoped>\n",
       "    .dataframe tbody tr th:only-of-type {\n",
       "        vertical-align: middle;\n",
       "    }\n",
       "\n",
       "    .dataframe tbody tr th {\n",
       "        vertical-align: top;\n",
       "    }\n",
       "\n",
       "    .dataframe thead th {\n",
       "        text-align: right;\n",
       "    }\n",
       "</style>\n",
       "<table border=\"1\" class=\"dataframe\">\n",
       "  <thead>\n",
       "    <tr style=\"text-align: right;\">\n",
       "      <th></th>\n",
       "      <th>Class</th>\n",
       "      <th>age</th>\n",
       "      <th>menopause</th>\n",
       "      <th>tumor-size</th>\n",
       "      <th>inv-nodes</th>\n",
       "      <th>node-caps</th>\n",
       "      <th>deg-malig</th>\n",
       "      <th>breast</th>\n",
       "      <th>breast-quad</th>\n",
       "      <th>irradiat</th>\n",
       "    </tr>\n",
       "  </thead>\n",
       "  <tbody>\n",
       "    <tr>\n",
       "      <th>0</th>\n",
       "      <td>no-recurrence-events</td>\n",
       "      <td>30-39</td>\n",
       "      <td>premeno</td>\n",
       "      <td>30-34</td>\n",
       "      <td>0-2</td>\n",
       "      <td>no</td>\n",
       "      <td>3</td>\n",
       "      <td>left</td>\n",
       "      <td>left_low</td>\n",
       "      <td>no</td>\n",
       "    </tr>\n",
       "    <tr>\n",
       "      <th>1</th>\n",
       "      <td>no-recurrence-events</td>\n",
       "      <td>40-49</td>\n",
       "      <td>premeno</td>\n",
       "      <td>20-24</td>\n",
       "      <td>0-2</td>\n",
       "      <td>no</td>\n",
       "      <td>2</td>\n",
       "      <td>right</td>\n",
       "      <td>right_up</td>\n",
       "      <td>no</td>\n",
       "    </tr>\n",
       "    <tr>\n",
       "      <th>2</th>\n",
       "      <td>no-recurrence-events</td>\n",
       "      <td>40-49</td>\n",
       "      <td>premeno</td>\n",
       "      <td>20-24</td>\n",
       "      <td>0-2</td>\n",
       "      <td>no</td>\n",
       "      <td>2</td>\n",
       "      <td>left</td>\n",
       "      <td>left_low</td>\n",
       "      <td>no</td>\n",
       "    </tr>\n",
       "    <tr>\n",
       "      <th>3</th>\n",
       "      <td>no-recurrence-events</td>\n",
       "      <td>60-69</td>\n",
       "      <td>ge40</td>\n",
       "      <td>15-19</td>\n",
       "      <td>0-2</td>\n",
       "      <td>no</td>\n",
       "      <td>2</td>\n",
       "      <td>right</td>\n",
       "      <td>left_up</td>\n",
       "      <td>no</td>\n",
       "    </tr>\n",
       "    <tr>\n",
       "      <th>4</th>\n",
       "      <td>no-recurrence-events</td>\n",
       "      <td>40-49</td>\n",
       "      <td>premeno</td>\n",
       "      <td>0-4</td>\n",
       "      <td>0-2</td>\n",
       "      <td>no</td>\n",
       "      <td>2</td>\n",
       "      <td>right</td>\n",
       "      <td>right_low</td>\n",
       "      <td>no</td>\n",
       "    </tr>\n",
       "  </tbody>\n",
       "</table>\n",
       "</div>"
      ],
      "text/plain": [
       "                  Class    age menopause tumor-size inv-nodes node-caps  \\\n",
       "0  no-recurrence-events  30-39   premeno      30-34       0-2        no   \n",
       "1  no-recurrence-events  40-49   premeno      20-24       0-2        no   \n",
       "2  no-recurrence-events  40-49   premeno      20-24       0-2        no   \n",
       "3  no-recurrence-events  60-69      ge40      15-19       0-2        no   \n",
       "4  no-recurrence-events  40-49   premeno        0-4       0-2        no   \n",
       "\n",
       "   deg-malig breast breast-quad irradiat  \n",
       "0          3   left    left_low       no  \n",
       "1          2  right    right_up       no  \n",
       "2          2   left    left_low       no  \n",
       "3          2  right     left_up       no  \n",
       "4          2  right   right_low       no  "
      ]
     },
     "execution_count": 295,
     "metadata": {},
     "output_type": "execute_result"
    }
   ],
   "source": [
    "from io import StringIO\n",
    "\n",
    "col_names = [\n",
    "    'Class', 'age', 'menopause', 'tumor-size',\n",
    "    'inv-nodes', 'node-caps', 'deg-malig', 'breast',\n",
    "    'breast-quad', 'irradiat'\n",
    "]\n",
    "\n",
    "cancer_df = pd.read_csv(\n",
    "    './breast_cancer_dataset/breast-cancer.data',\n",
    "    sep=\",\", usecols=list(range(0, 10)), names=col_names,\n",
    ")\n",
    "cancer_df.head()"
   ]
  },
  {
   "cell_type": "code",
   "execution_count": 296,
   "metadata": {},
   "outputs": [],
   "source": [
    "features = ['age', 'menopause', 'tumor-size',\n",
    "            'inv-nodes', 'node-caps', 'deg-malig', 'breast',\n",
    "            'breast-quad', 'irradiat']\n",
    "target = ['Class']"
   ]
  },
  {
   "cell_type": "markdown",
   "metadata": {},
   "source": [
    "Because these are all categorical features, let's do some encoding before doing any actual machine learning:"
   ]
  },
  {
   "cell_type": "code",
   "execution_count": 363,
   "metadata": {},
   "outputs": [],
   "source": [
    "encoded_data = dict()\n",
    "enc = OneHotEncoder(handle_unknown='ignore')\n",
    "for feat in features:\n",
    "    input_feat = cancer_df[feat].values.reshape(-1, 1)\n",
    "    encoded_feat = enc.fit_transform(input_feat).toarray()\n",
    "    encoded_data[feat] = encoded_feat\n"
   ]
  },
  {
   "cell_type": "markdown",
   "metadata": {},
   "source": [
    "Cool! Now let's split up the data:"
   ]
  },
  {
   "cell_type": "code",
   "execution_count": 364,
   "metadata": {},
   "outputs": [],
   "source": [
    "X = np.column_stack(list(\n",
    "    encoded_data.values()\n",
    "))"
   ]
  },
  {
   "cell_type": "code",
   "execution_count": 365,
   "metadata": {},
   "outputs": [],
   "source": [
    "# for the target var, we'll just use sparse int encoding\n",
    "y = np.where(cancer_df[\"Class\"] == 'no-recurrence-events', 0, 1)"
   ]
  },
  {
   "cell_type": "code",
   "execution_count": 366,
   "metadata": {},
   "outputs": [],
   "source": [
    "X_train, X_test, y_train, y_test = train_test_split(X, y, test_size=0.2, random_state=42)"
   ]
  },
  {
   "cell_type": "markdown",
   "metadata": {},
   "source": [
    "### Basic Kernel\n",
    "For my basic kernel, I'll just go with a `Constant`:"
   ]
  },
  {
   "cell_type": "code",
   "execution_count": 368,
   "metadata": {},
   "outputs": [
    {
     "data": {
      "text/plain": [
       "0.6379310344827587"
      ]
     },
     "execution_count": 368,
     "metadata": {},
     "output_type": "execute_result"
    }
   ],
   "source": [
    "kernel = 1.0 * kernels.ConstantKernel(1.0)\n",
    "basic_gpc = GaussianProcessClassifier(\n",
    "    kernel=kernel, random_state=0).fit(X_train, y_train)\n",
    "basic_gpc.score(X_test, y_test)"
   ]
  },
  {
   "cell_type": "markdown",
   "metadata": {},
   "source": [
    "### RBF Kernel"
   ]
  },
  {
   "cell_type": "code",
   "execution_count": 371,
   "metadata": {},
   "outputs": [
    {
     "data": {
      "text/plain": [
       "0.6379310344827587"
      ]
     },
     "execution_count": 371,
     "metadata": {},
     "output_type": "execute_result"
    }
   ],
   "source": [
    "kernel = 1.0 * kernels.RBF(1.0)\n",
    "rbf_gpc = GaussianProcessClassifier(\n",
    "    kernel=kernel, random_state=0).fit(X_train, y_train)\n",
    "rbf_gpc.score(X_test, y_test)"
   ]
  },
  {
   "cell_type": "markdown",
   "metadata": {},
   "source": [
    "### Matern Kernel"
   ]
  },
  {
   "cell_type": "code",
   "execution_count": 373,
   "metadata": {},
   "outputs": [
    {
     "data": {
      "text/plain": [
       "0.6724137931034483"
      ]
     },
     "execution_count": 373,
     "metadata": {},
     "output_type": "execute_result"
    }
   ],
   "source": [
    "kernel = 1.0 * kernels.Matern(1.0)\n",
    "matern_gpc = GaussianProcessClassifier(\n",
    "    kernel=kernel, random_state=0).fit(X_train, y_train)\n",
    "matern_gpc.score(X_test, y_test)"
   ]
  },
  {
   "cell_type": "markdown",
   "metadata": {},
   "source": [
    "## Part 2 (and Part 3)\n",
    "\"Implement a 5-fold cross-validation algorithm to report the model and accuracy of each fold.\"\n",
    "\n",
    "\"Report the result.\""
   ]
  },
  {
   "cell_type": "code",
   "execution_count": 375,
   "metadata": {},
   "outputs": [],
   "source": [
    "num_cross_val_folds = 5"
   ]
  },
  {
   "cell_type": "markdown",
   "metadata": {},
   "source": [
    "### Basic Gaussian Process Classifier"
   ]
  },
  {
   "cell_type": "code",
   "execution_count": 377,
   "metadata": {},
   "outputs": [],
   "source": [
    "basic_scores = model_selection.cross_validate(\n",
    "    basic_gpc, X, y,\n",
    "    scoring=metrics.make_scorer(metrics.accuracy_score),\n",
    "    cv=num_cross_val_folds, return_estimator=True,\n",
    ")"
   ]
  },
  {
   "cell_type": "code",
   "execution_count": 386,
   "metadata": {},
   "outputs": [
    {
     "name": "stdout",
     "output_type": "stream",
     "text": [
      "===== Basic GPC - Accuracy Report: =====\n",
      "Fold 1: 70.69%\n",
      "Fold 2: 70.17999999999999%\n",
      "Fold 3: 70.17999999999999%\n",
      "Fold 4: 70.17999999999999%\n",
      "Fold 5: 70.17999999999999%\n"
     ]
    }
   ],
   "source": [
    "print(\"===== Basic GPC - Accuracy Report: =====\")\n",
    "for index, score in enumerate(basic_scores[\"test_score\"]):\n",
    "    print(f\"Fold {index + 1}: {round(score, 4) * 100}%\")\n"
   ]
  },
  {
   "cell_type": "markdown",
   "metadata": {},
   "source": [
    "### RBF Gaussian Process Classifier"
   ]
  },
  {
   "cell_type": "code",
   "execution_count": 382,
   "metadata": {},
   "outputs": [],
   "source": [
    "rbf_scores = model_selection.cross_validate(\n",
    "    rbf_gpc, X, y,\n",
    "    scoring=metrics.make_scorer(metrics.accuracy_score),\n",
    "    cv=num_cross_val_folds, return_estimator=True,\n",
    ")"
   ]
  },
  {
   "cell_type": "code",
   "execution_count": 387,
   "metadata": {},
   "outputs": [
    {
     "name": "stdout",
     "output_type": "stream",
     "text": [
      "===== RBF GPC - Accuracy Report: =====\n",
      "Fold 1: 67.24%\n",
      "Fold 2: 70.17999999999999%\n",
      "Fold 3: 70.17999999999999%\n",
      "Fold 4: 66.67%\n",
      "Fold 5: 66.67%\n"
     ]
    }
   ],
   "source": [
    "print(\"===== RBF GPC - Accuracy Report: =====\")\n",
    "for index, score in enumerate(rbf_scores[\"test_score\"]):\n",
    "    print(f\"Fold {index + 1}: {round(score, 4) * 100}%\")"
   ]
  },
  {
   "cell_type": "markdown",
   "metadata": {},
   "source": [
    "### Matern Gaussian Process Classifier"
   ]
  },
  {
   "cell_type": "code",
   "execution_count": 384,
   "metadata": {},
   "outputs": [],
   "source": [
    "matern_scores = model_selection.cross_validate(\n",
    "    matern_gpc, X, y,\n",
    "    scoring=metrics.make_scorer(metrics.accuracy_score),\n",
    "    cv=num_cross_val_folds, return_estimator=True,\n",
    ")"
   ]
  },
  {
   "cell_type": "code",
   "execution_count": 389,
   "metadata": {},
   "outputs": [
    {
     "name": "stdout",
     "output_type": "stream",
     "text": [
      "===== Matern GPC - Accuracy Report: =====\n",
      "Fold 1: 67.24%\n",
      "Fold 2: 70.17999999999999%\n",
      "Fold 3: 70.17999999999999%\n",
      "Fold 4: 66.67%\n",
      "Fold 5: 68.42%\n"
     ]
    }
   ],
   "source": [
    "print(\"===== Matern GPC - Accuracy Report: =====\")\n",
    "for index, score in enumerate(matern_scores[\"test_score\"]):\n",
    "    print(f\"Fold {index + 1}: {round(score, 4) * 100}%\")"
   ]
  }
 ],
 "metadata": {
  "kernelspec": {
   "display_name": "559",
   "language": "python",
   "name": "python3"
  },
  "language_info": {
   "codemirror_mode": {
    "name": "ipython",
    "version": 3
   },
   "file_extension": ".py",
   "mimetype": "text/x-python",
   "name": "python",
   "nbconvert_exporter": "python",
   "pygments_lexer": "ipython3",
   "version": "3.10.4"
  },
  "orig_nbformat": 4,
  "vscode": {
   "interpreter": {
    "hash": "814950ec8b8c7032d23fac38b059fcb51ad391395255f22f9a4e55af65449f0a"
   }
  }
 },
 "nbformat": 4,
 "nbformat_minor": 2
}
